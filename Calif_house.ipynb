{
  "nbformat": 4,
  "nbformat_minor": 0,
  "metadata": {
    "colab": {
      "provenance": [],
      "authorship_tag": "ABX9TyMmQLoSnZ1HNKVAUJ6PA7QS",
      "include_colab_link": true
    },
    "kernelspec": {
      "name": "python3",
      "display_name": "Python 3"
    },
    "language_info": {
      "name": "python"
    }
  },
  "cells": [
    {
      "cell_type": "markdown",
      "metadata": {
        "id": "view-in-github",
        "colab_type": "text"
      },
      "source": [
        "<a href=\"https://colab.research.google.com/github/mag381/AI/blob/main/Calif_house.ipynb\" target=\"_parent\"><img src=\"https://colab.research.google.com/assets/colab-badge.svg\" alt=\"Open In Colab\"/></a>"
      ]
    },
    {
      "cell_type": "code",
      "source": [
        "#必要なライブラリをインポート\n",
        "import pandas as pd\n",
        "import numpy as np\n",
        "import matplotlib.pyplot as plt\n",
        "%matplotlib inline\n",
        "import seaborn as sns\n",
        "from sklearn.model_selection import train_test_split\n",
        "from sklearn.preprocessing import StandardScaler\n",
        "from sklearn.linear_model import LinearRegression\n",
        "from sklearn.linear_model import Lasso\n",
        "from sklearn.linear_model import LassoCV\n",
        "from sklearn.linear_model import Ridge\n",
        "from sklearn.metrics import mean_absolute_error, mean_squared_error, r2_score\n"
      ],
      "metadata": {
        "id": "S1RuT4o3N9A5"
      },
      "execution_count": null,
      "outputs": []
    },
    {
      "cell_type": "code",
      "source": [
        "# 真値を予測値に対してプロットする\n",
        "def cmp_plt(y_train_yosoku, y_train, y_test_yosoku, y_test):\n",
        "  plt.scatter(y_train_yosoku, y_train, label=\"train\")\n",
        "  plt.scatter(y_test_yosoku, y_test, label=\"test\")\n",
        "  plt.xlabel(\"yosoku\")\n",
        "  plt.ylabel(\"shin-chi\")\n",
        "  plt.title(\"Hikaku\")\n",
        "  plt.legend()\n",
        "  plt.show()"
      ],
      "metadata": {
        "id": "7YAKrRQtaqEQ"
      },
      "execution_count": null,
      "outputs": []
    },
    {
      "cell_type": "code",
      "source": [
        "# 外れ量（予測値－真値）を予測値に対してプロットする\n",
        "def res_plt(y_train_yosoku, y_train, y_test_yosoku, y_test):\n",
        "  plt.scatter(y_train_yosoku, y_train_yosoku - y_train, label=\"train\")\n",
        "  plt.scatter(y_test_yosoku, y_test_yosoku - y_test, label=\"test\")\n",
        "  plt.xlabel(\"yosoku\")\n",
        "  plt.ylabel(\"yosoku - sinchi\")\n",
        "  plt.title(\"Yosoku_Hazure\")\n",
        "  plt.legend()\n",
        "  plt.show()"
      ],
      "metadata": {
        "id": "i-VNeCFSa8zq"
      },
      "execution_count": null,
      "outputs": []
    },
    {
      "cell_type": "code",
      "source": [
        "# 予測誤差を評価する\n",
        "def get_eval_score(y_correct,y_yosoku):\n",
        "  mae = mean_absolute_error(y_correct,y_yosoku)\n",
        "  mse = mean_squared_error(y_correct,y_yosoku)\n",
        "  rmse = np.sqrt(mse)\n",
        "  r2score = r2_score(y_correct,y_yosoku)\n",
        "  print(f\" mean absolute error = {mae}\")\n",
        "  print(f\" mean squared error = {mse}\")\n",
        "  print(f\" root mean squared error = {rmse}\")\n",
        "  print(f\" R2(kettei keisuu) = {r2score}\")"
      ],
      "metadata": {
        "id": "RHY3NeSGbcSD"
      },
      "execution_count": null,
      "outputs": []
    },
    {
      "cell_type": "code",
      "source": [
        "#物件を保存したファイル読み込む\n",
        "from google.colab import files     #2 PC上のファイルを選択して、\n",
        "uploaded=files.upload()            #2 Colab上のに読み込んでいる。（上の行とセットで使う）\n",
        "f_name = list(uploaded.keys())[0]  #2 上の行で選択したファイル名を f_nameに代入する\n",
        "# housing01.csv を読み込む"
      ],
      "metadata": {
        "colab": {
          "base_uri": "https://localhost:8080/",
          "height": 78
        },
        "id": "ePe8hY79oOM2",
        "outputId": "5fd3710e-7d62-4eba-a82c-736cce349258"
      },
      "execution_count": null,
      "outputs": [
        {
          "output_type": "display_data",
          "data": {
            "text/plain": [
              "<IPython.core.display.HTML object>"
            ],
            "text/html": [
              "\n",
              "     <input type=\"file\" id=\"files-8bde3626-2fe3-4a2c-894d-7ca30b5b27f3\" name=\"files[]\" multiple disabled\n",
              "        style=\"border:none\" />\n",
              "     <output id=\"result-8bde3626-2fe3-4a2c-894d-7ca30b5b27f3\">\n",
              "      Upload widget is only available when the cell has been executed in the\n",
              "      current browser session. Please rerun this cell to enable.\n",
              "      </output>\n",
              "      <script>// Copyright 2017 Google LLC\n",
              "//\n",
              "// Licensed under the Apache License, Version 2.0 (the \"License\");\n",
              "// you may not use this file except in compliance with the License.\n",
              "// You may obtain a copy of the License at\n",
              "//\n",
              "//      http://www.apache.org/licenses/LICENSE-2.0\n",
              "//\n",
              "// Unless required by applicable law or agreed to in writing, software\n",
              "// distributed under the License is distributed on an \"AS IS\" BASIS,\n",
              "// WITHOUT WARRANTIES OR CONDITIONS OF ANY KIND, either express or implied.\n",
              "// See the License for the specific language governing permissions and\n",
              "// limitations under the License.\n",
              "\n",
              "/**\n",
              " * @fileoverview Helpers for google.colab Python module.\n",
              " */\n",
              "(function(scope) {\n",
              "function span(text, styleAttributes = {}) {\n",
              "  const element = document.createElement('span');\n",
              "  element.textContent = text;\n",
              "  for (const key of Object.keys(styleAttributes)) {\n",
              "    element.style[key] = styleAttributes[key];\n",
              "  }\n",
              "  return element;\n",
              "}\n",
              "\n",
              "// Max number of bytes which will be uploaded at a time.\n",
              "const MAX_PAYLOAD_SIZE = 100 * 1024;\n",
              "\n",
              "function _uploadFiles(inputId, outputId) {\n",
              "  const steps = uploadFilesStep(inputId, outputId);\n",
              "  const outputElement = document.getElementById(outputId);\n",
              "  // Cache steps on the outputElement to make it available for the next call\n",
              "  // to uploadFilesContinue from Python.\n",
              "  outputElement.steps = steps;\n",
              "\n",
              "  return _uploadFilesContinue(outputId);\n",
              "}\n",
              "\n",
              "// This is roughly an async generator (not supported in the browser yet),\n",
              "// where there are multiple asynchronous steps and the Python side is going\n",
              "// to poll for completion of each step.\n",
              "// This uses a Promise to block the python side on completion of each step,\n",
              "// then passes the result of the previous step as the input to the next step.\n",
              "function _uploadFilesContinue(outputId) {\n",
              "  const outputElement = document.getElementById(outputId);\n",
              "  const steps = outputElement.steps;\n",
              "\n",
              "  const next = steps.next(outputElement.lastPromiseValue);\n",
              "  return Promise.resolve(next.value.promise).then((value) => {\n",
              "    // Cache the last promise value to make it available to the next\n",
              "    // step of the generator.\n",
              "    outputElement.lastPromiseValue = value;\n",
              "    return next.value.response;\n",
              "  });\n",
              "}\n",
              "\n",
              "/**\n",
              " * Generator function which is called between each async step of the upload\n",
              " * process.\n",
              " * @param {string} inputId Element ID of the input file picker element.\n",
              " * @param {string} outputId Element ID of the output display.\n",
              " * @return {!Iterable<!Object>} Iterable of next steps.\n",
              " */\n",
              "function* uploadFilesStep(inputId, outputId) {\n",
              "  const inputElement = document.getElementById(inputId);\n",
              "  inputElement.disabled = false;\n",
              "\n",
              "  const outputElement = document.getElementById(outputId);\n",
              "  outputElement.innerHTML = '';\n",
              "\n",
              "  const pickedPromise = new Promise((resolve) => {\n",
              "    inputElement.addEventListener('change', (e) => {\n",
              "      resolve(e.target.files);\n",
              "    });\n",
              "  });\n",
              "\n",
              "  const cancel = document.createElement('button');\n",
              "  inputElement.parentElement.appendChild(cancel);\n",
              "  cancel.textContent = 'Cancel upload';\n",
              "  const cancelPromise = new Promise((resolve) => {\n",
              "    cancel.onclick = () => {\n",
              "      resolve(null);\n",
              "    };\n",
              "  });\n",
              "\n",
              "  // Wait for the user to pick the files.\n",
              "  const files = yield {\n",
              "    promise: Promise.race([pickedPromise, cancelPromise]),\n",
              "    response: {\n",
              "      action: 'starting',\n",
              "    }\n",
              "  };\n",
              "\n",
              "  cancel.remove();\n",
              "\n",
              "  // Disable the input element since further picks are not allowed.\n",
              "  inputElement.disabled = true;\n",
              "\n",
              "  if (!files) {\n",
              "    return {\n",
              "      response: {\n",
              "        action: 'complete',\n",
              "      }\n",
              "    };\n",
              "  }\n",
              "\n",
              "  for (const file of files) {\n",
              "    const li = document.createElement('li');\n",
              "    li.append(span(file.name, {fontWeight: 'bold'}));\n",
              "    li.append(span(\n",
              "        `(${file.type || 'n/a'}) - ${file.size} bytes, ` +\n",
              "        `last modified: ${\n",
              "            file.lastModifiedDate ? file.lastModifiedDate.toLocaleDateString() :\n",
              "                                    'n/a'} - `));\n",
              "    const percent = span('0% done');\n",
              "    li.appendChild(percent);\n",
              "\n",
              "    outputElement.appendChild(li);\n",
              "\n",
              "    const fileDataPromise = new Promise((resolve) => {\n",
              "      const reader = new FileReader();\n",
              "      reader.onload = (e) => {\n",
              "        resolve(e.target.result);\n",
              "      };\n",
              "      reader.readAsArrayBuffer(file);\n",
              "    });\n",
              "    // Wait for the data to be ready.\n",
              "    let fileData = yield {\n",
              "      promise: fileDataPromise,\n",
              "      response: {\n",
              "        action: 'continue',\n",
              "      }\n",
              "    };\n",
              "\n",
              "    // Use a chunked sending to avoid message size limits. See b/62115660.\n",
              "    let position = 0;\n",
              "    do {\n",
              "      const length = Math.min(fileData.byteLength - position, MAX_PAYLOAD_SIZE);\n",
              "      const chunk = new Uint8Array(fileData, position, length);\n",
              "      position += length;\n",
              "\n",
              "      const base64 = btoa(String.fromCharCode.apply(null, chunk));\n",
              "      yield {\n",
              "        response: {\n",
              "          action: 'append',\n",
              "          file: file.name,\n",
              "          data: base64,\n",
              "        },\n",
              "      };\n",
              "\n",
              "      let percentDone = fileData.byteLength === 0 ?\n",
              "          100 :\n",
              "          Math.round((position / fileData.byteLength) * 100);\n",
              "      percent.textContent = `${percentDone}% done`;\n",
              "\n",
              "    } while (position < fileData.byteLength);\n",
              "  }\n",
              "\n",
              "  // All done.\n",
              "  yield {\n",
              "    response: {\n",
              "      action: 'complete',\n",
              "    }\n",
              "  };\n",
              "}\n",
              "\n",
              "scope.google = scope.google || {};\n",
              "scope.google.colab = scope.google.colab || {};\n",
              "scope.google.colab._files = {\n",
              "  _uploadFiles,\n",
              "  _uploadFilesContinue,\n",
              "};\n",
              "})(self);\n",
              "</script> "
            ]
          },
          "metadata": {}
        },
        {
          "output_type": "stream",
          "name": "stdout",
          "text": [
            "Saving housing01.csv to housing01.csv\n"
          ]
        }
      ]
    },
    {
      "cell_type": "code",
      "source": [
        "# 指定したファイルをデータフレーム(DataFrame：変数名df）に格納する\n",
        "# セパレート記号を'\\t'に設定して読み込む\n",
        "#df = pd.read_csv(f_name, index_col=0, sep='\\t', encoding='utf-8-sig') \n",
        "df = pd.read_csv(f_name, encoding='utf-8-sig') \n",
        "df.head()  # 最初の5行を表示する"
      ],
      "metadata": {
        "colab": {
          "base_uri": "https://localhost:8080/",
          "height": 206
        },
        "id": "Vz3S4iTimtDq",
        "outputId": "52bb030c-63a0-4059-9ee6-4569577b885d"
      },
      "execution_count": null,
      "outputs": [
        {
          "output_type": "execute_result",
          "data": {
            "text/plain": [
              "    long.   lat.  age     rooms   b_rooms  population  households  \\\n",
              "0 -122.23  37.88   41  6.984127  1.023810    2.555556         126   \n",
              "1 -122.22  37.86   21  6.238137  0.971880    2.109842        1138   \n",
              "2 -122.24  37.85   52  8.288136  1.073446    2.802260         177   \n",
              "3 -122.25  37.85   52  5.817352  1.073059    2.547945         219   \n",
              "4 -122.25  37.85   52  6.281853  1.081081    2.181467         259   \n",
              "\n",
              "   median_income  house_value  \n",
              "0         8.3252       452600  \n",
              "1         8.3014       358500  \n",
              "2         7.2574       352100  \n",
              "3         5.6431       341300  \n",
              "4         3.8462       342200  "
            ],
            "text/html": [
              "\n",
              "  <div id=\"df-90237b22-9f8e-48eb-ad33-3b5f6cf85310\">\n",
              "    <div class=\"colab-df-container\">\n",
              "      <div>\n",
              "<style scoped>\n",
              "    .dataframe tbody tr th:only-of-type {\n",
              "        vertical-align: middle;\n",
              "    }\n",
              "\n",
              "    .dataframe tbody tr th {\n",
              "        vertical-align: top;\n",
              "    }\n",
              "\n",
              "    .dataframe thead th {\n",
              "        text-align: right;\n",
              "    }\n",
              "</style>\n",
              "<table border=\"1\" class=\"dataframe\">\n",
              "  <thead>\n",
              "    <tr style=\"text-align: right;\">\n",
              "      <th></th>\n",
              "      <th>long.</th>\n",
              "      <th>lat.</th>\n",
              "      <th>age</th>\n",
              "      <th>rooms</th>\n",
              "      <th>b_rooms</th>\n",
              "      <th>population</th>\n",
              "      <th>households</th>\n",
              "      <th>median_income</th>\n",
              "      <th>house_value</th>\n",
              "    </tr>\n",
              "  </thead>\n",
              "  <tbody>\n",
              "    <tr>\n",
              "      <th>0</th>\n",
              "      <td>-122.23</td>\n",
              "      <td>37.88</td>\n",
              "      <td>41</td>\n",
              "      <td>6.984127</td>\n",
              "      <td>1.023810</td>\n",
              "      <td>2.555556</td>\n",
              "      <td>126</td>\n",
              "      <td>8.3252</td>\n",
              "      <td>452600</td>\n",
              "    </tr>\n",
              "    <tr>\n",
              "      <th>1</th>\n",
              "      <td>-122.22</td>\n",
              "      <td>37.86</td>\n",
              "      <td>21</td>\n",
              "      <td>6.238137</td>\n",
              "      <td>0.971880</td>\n",
              "      <td>2.109842</td>\n",
              "      <td>1138</td>\n",
              "      <td>8.3014</td>\n",
              "      <td>358500</td>\n",
              "    </tr>\n",
              "    <tr>\n",
              "      <th>2</th>\n",
              "      <td>-122.24</td>\n",
              "      <td>37.85</td>\n",
              "      <td>52</td>\n",
              "      <td>8.288136</td>\n",
              "      <td>1.073446</td>\n",
              "      <td>2.802260</td>\n",
              "      <td>177</td>\n",
              "      <td>7.2574</td>\n",
              "      <td>352100</td>\n",
              "    </tr>\n",
              "    <tr>\n",
              "      <th>3</th>\n",
              "      <td>-122.25</td>\n",
              "      <td>37.85</td>\n",
              "      <td>52</td>\n",
              "      <td>5.817352</td>\n",
              "      <td>1.073059</td>\n",
              "      <td>2.547945</td>\n",
              "      <td>219</td>\n",
              "      <td>5.6431</td>\n",
              "      <td>341300</td>\n",
              "    </tr>\n",
              "    <tr>\n",
              "      <th>4</th>\n",
              "      <td>-122.25</td>\n",
              "      <td>37.85</td>\n",
              "      <td>52</td>\n",
              "      <td>6.281853</td>\n",
              "      <td>1.081081</td>\n",
              "      <td>2.181467</td>\n",
              "      <td>259</td>\n",
              "      <td>3.8462</td>\n",
              "      <td>342200</td>\n",
              "    </tr>\n",
              "  </tbody>\n",
              "</table>\n",
              "</div>\n",
              "      <button class=\"colab-df-convert\" onclick=\"convertToInteractive('df-90237b22-9f8e-48eb-ad33-3b5f6cf85310')\"\n",
              "              title=\"Convert this dataframe to an interactive table.\"\n",
              "              style=\"display:none;\">\n",
              "        \n",
              "  <svg xmlns=\"http://www.w3.org/2000/svg\" height=\"24px\"viewBox=\"0 0 24 24\"\n",
              "       width=\"24px\">\n",
              "    <path d=\"M0 0h24v24H0V0z\" fill=\"none\"/>\n",
              "    <path d=\"M18.56 5.44l.94 2.06.94-2.06 2.06-.94-2.06-.94-.94-2.06-.94 2.06-2.06.94zm-11 1L8.5 8.5l.94-2.06 2.06-.94-2.06-.94L8.5 2.5l-.94 2.06-2.06.94zm10 10l.94 2.06.94-2.06 2.06-.94-2.06-.94-.94-2.06-.94 2.06-2.06.94z\"/><path d=\"M17.41 7.96l-1.37-1.37c-.4-.4-.92-.59-1.43-.59-.52 0-1.04.2-1.43.59L10.3 9.45l-7.72 7.72c-.78.78-.78 2.05 0 2.83L4 21.41c.39.39.9.59 1.41.59.51 0 1.02-.2 1.41-.59l7.78-7.78 2.81-2.81c.8-.78.8-2.07 0-2.86zM5.41 20L4 18.59l7.72-7.72 1.47 1.35L5.41 20z\"/>\n",
              "  </svg>\n",
              "      </button>\n",
              "      \n",
              "  <style>\n",
              "    .colab-df-container {\n",
              "      display:flex;\n",
              "      flex-wrap:wrap;\n",
              "      gap: 12px;\n",
              "    }\n",
              "\n",
              "    .colab-df-convert {\n",
              "      background-color: #E8F0FE;\n",
              "      border: none;\n",
              "      border-radius: 50%;\n",
              "      cursor: pointer;\n",
              "      display: none;\n",
              "      fill: #1967D2;\n",
              "      height: 32px;\n",
              "      padding: 0 0 0 0;\n",
              "      width: 32px;\n",
              "    }\n",
              "\n",
              "    .colab-df-convert:hover {\n",
              "      background-color: #E2EBFA;\n",
              "      box-shadow: 0px 1px 2px rgba(60, 64, 67, 0.3), 0px 1px 3px 1px rgba(60, 64, 67, 0.15);\n",
              "      fill: #174EA6;\n",
              "    }\n",
              "\n",
              "    [theme=dark] .colab-df-convert {\n",
              "      background-color: #3B4455;\n",
              "      fill: #D2E3FC;\n",
              "    }\n",
              "\n",
              "    [theme=dark] .colab-df-convert:hover {\n",
              "      background-color: #434B5C;\n",
              "      box-shadow: 0px 1px 3px 1px rgba(0, 0, 0, 0.15);\n",
              "      filter: drop-shadow(0px 1px 2px rgba(0, 0, 0, 0.3));\n",
              "      fill: #FFFFFF;\n",
              "    }\n",
              "  </style>\n",
              "\n",
              "      <script>\n",
              "        const buttonEl =\n",
              "          document.querySelector('#df-90237b22-9f8e-48eb-ad33-3b5f6cf85310 button.colab-df-convert');\n",
              "        buttonEl.style.display =\n",
              "          google.colab.kernel.accessAllowed ? 'block' : 'none';\n",
              "\n",
              "        async function convertToInteractive(key) {\n",
              "          const element = document.querySelector('#df-90237b22-9f8e-48eb-ad33-3b5f6cf85310');\n",
              "          const dataTable =\n",
              "            await google.colab.kernel.invokeFunction('convertToInteractive',\n",
              "                                                     [key], {});\n",
              "          if (!dataTable) return;\n",
              "\n",
              "          const docLinkHtml = 'Like what you see? Visit the ' +\n",
              "            '<a target=\"_blank\" href=https://colab.research.google.com/notebooks/data_table.ipynb>data table notebook</a>'\n",
              "            + ' to learn more about interactive tables.';\n",
              "          element.innerHTML = '';\n",
              "          dataTable['output_type'] = 'display_data';\n",
              "          await google.colab.output.renderOutput(dataTable, element);\n",
              "          const docLink = document.createElement('div');\n",
              "          docLink.innerHTML = docLinkHtml;\n",
              "          element.appendChild(docLink);\n",
              "        }\n",
              "      </script>\n",
              "    </div>\n",
              "  </div>\n",
              "  "
            ]
          },
          "metadata": {},
          "execution_count": 27
        }
      ]
    },
    {
      "cell_type": "code",
      "source": [
        "# 使わないコラム（columns）を drop で削除する\n",
        "#df = df.drop(['title','address','fee','manage','access11','access21','access22','access31','access32'], axis=1)\n",
        "#df.head()  # 削除後、最初の5行を表示\n",
        "# 使わないコラムはあらかじめ削除しているので、実行しない"
      ],
      "metadata": {
        "id": "Miu_Oef_TNcT"
      },
      "execution_count": null,
      "outputs": []
    },
    {
      "cell_type": "code",
      "source": [
        "df.describe()  # データ個数、平均値、標準偏差、最小値、25,50,75%での値、最大値を表示"
      ],
      "metadata": {
        "colab": {
          "base_uri": "https://localhost:8080/",
          "height": 344
        },
        "id": "6qqkZHDFcm33",
        "outputId": "361cd13c-dd39-4e11-8121-dd3debfebacc"
      },
      "execution_count": null,
      "outputs": [
        {
          "output_type": "execute_result",
          "data": {
            "text/plain": [
              "              long.          lat.           age         rooms       b_rooms  \\\n",
              "count  20640.000000  20640.000000  20640.000000  20640.000000  20640.000000   \n",
              "mean    -119.569704     35.631861     28.639486      5.429000      1.086060   \n",
              "std        2.003532      2.135952     12.585558      2.474173      0.486160   \n",
              "min     -124.350000     32.540000      1.000000      0.846154      0.000000   \n",
              "25%     -121.800000     33.930000     18.000000      4.440716      1.004393   \n",
              "50%     -118.490000     34.260000     29.000000      5.229129      1.048029   \n",
              "75%     -118.010000     37.710000     37.000000      6.052381      1.098851   \n",
              "max     -114.310000     41.950000     52.000000    141.909091     34.066667   \n",
              "\n",
              "         population    households  median_income    house_value  \n",
              "count  20640.000000  20640.000000   20640.000000   20640.000000  \n",
              "mean       3.070655    499.539680       3.870671  206855.816909  \n",
              "std       10.386050    382.329753       1.899822  115395.615874  \n",
              "min        0.692308      1.000000       0.499900   14999.000000  \n",
              "25%        2.429741    280.000000       2.563400  119600.000000  \n",
              "50%        2.818116    409.000000       3.534800  179700.000000  \n",
              "75%        3.282261    605.000000       4.743250  264725.000000  \n",
              "max     1243.333333   6082.000000      15.000100  500001.000000  "
            ],
            "text/html": [
              "\n",
              "  <div id=\"df-4e5f0597-de03-428d-b323-6e09c261fc76\">\n",
              "    <div class=\"colab-df-container\">\n",
              "      <div>\n",
              "<style scoped>\n",
              "    .dataframe tbody tr th:only-of-type {\n",
              "        vertical-align: middle;\n",
              "    }\n",
              "\n",
              "    .dataframe tbody tr th {\n",
              "        vertical-align: top;\n",
              "    }\n",
              "\n",
              "    .dataframe thead th {\n",
              "        text-align: right;\n",
              "    }\n",
              "</style>\n",
              "<table border=\"1\" class=\"dataframe\">\n",
              "  <thead>\n",
              "    <tr style=\"text-align: right;\">\n",
              "      <th></th>\n",
              "      <th>long.</th>\n",
              "      <th>lat.</th>\n",
              "      <th>age</th>\n",
              "      <th>rooms</th>\n",
              "      <th>b_rooms</th>\n",
              "      <th>population</th>\n",
              "      <th>households</th>\n",
              "      <th>median_income</th>\n",
              "      <th>house_value</th>\n",
              "    </tr>\n",
              "  </thead>\n",
              "  <tbody>\n",
              "    <tr>\n",
              "      <th>count</th>\n",
              "      <td>20640.000000</td>\n",
              "      <td>20640.000000</td>\n",
              "      <td>20640.000000</td>\n",
              "      <td>20640.000000</td>\n",
              "      <td>20640.000000</td>\n",
              "      <td>20640.000000</td>\n",
              "      <td>20640.000000</td>\n",
              "      <td>20640.000000</td>\n",
              "      <td>20640.000000</td>\n",
              "    </tr>\n",
              "    <tr>\n",
              "      <th>mean</th>\n",
              "      <td>-119.569704</td>\n",
              "      <td>35.631861</td>\n",
              "      <td>28.639486</td>\n",
              "      <td>5.429000</td>\n",
              "      <td>1.086060</td>\n",
              "      <td>3.070655</td>\n",
              "      <td>499.539680</td>\n",
              "      <td>3.870671</td>\n",
              "      <td>206855.816909</td>\n",
              "    </tr>\n",
              "    <tr>\n",
              "      <th>std</th>\n",
              "      <td>2.003532</td>\n",
              "      <td>2.135952</td>\n",
              "      <td>12.585558</td>\n",
              "      <td>2.474173</td>\n",
              "      <td>0.486160</td>\n",
              "      <td>10.386050</td>\n",
              "      <td>382.329753</td>\n",
              "      <td>1.899822</td>\n",
              "      <td>115395.615874</td>\n",
              "    </tr>\n",
              "    <tr>\n",
              "      <th>min</th>\n",
              "      <td>-124.350000</td>\n",
              "      <td>32.540000</td>\n",
              "      <td>1.000000</td>\n",
              "      <td>0.846154</td>\n",
              "      <td>0.000000</td>\n",
              "      <td>0.692308</td>\n",
              "      <td>1.000000</td>\n",
              "      <td>0.499900</td>\n",
              "      <td>14999.000000</td>\n",
              "    </tr>\n",
              "    <tr>\n",
              "      <th>25%</th>\n",
              "      <td>-121.800000</td>\n",
              "      <td>33.930000</td>\n",
              "      <td>18.000000</td>\n",
              "      <td>4.440716</td>\n",
              "      <td>1.004393</td>\n",
              "      <td>2.429741</td>\n",
              "      <td>280.000000</td>\n",
              "      <td>2.563400</td>\n",
              "      <td>119600.000000</td>\n",
              "    </tr>\n",
              "    <tr>\n",
              "      <th>50%</th>\n",
              "      <td>-118.490000</td>\n",
              "      <td>34.260000</td>\n",
              "      <td>29.000000</td>\n",
              "      <td>5.229129</td>\n",
              "      <td>1.048029</td>\n",
              "      <td>2.818116</td>\n",
              "      <td>409.000000</td>\n",
              "      <td>3.534800</td>\n",
              "      <td>179700.000000</td>\n",
              "    </tr>\n",
              "    <tr>\n",
              "      <th>75%</th>\n",
              "      <td>-118.010000</td>\n",
              "      <td>37.710000</td>\n",
              "      <td>37.000000</td>\n",
              "      <td>6.052381</td>\n",
              "      <td>1.098851</td>\n",
              "      <td>3.282261</td>\n",
              "      <td>605.000000</td>\n",
              "      <td>4.743250</td>\n",
              "      <td>264725.000000</td>\n",
              "    </tr>\n",
              "    <tr>\n",
              "      <th>max</th>\n",
              "      <td>-114.310000</td>\n",
              "      <td>41.950000</td>\n",
              "      <td>52.000000</td>\n",
              "      <td>141.909091</td>\n",
              "      <td>34.066667</td>\n",
              "      <td>1243.333333</td>\n",
              "      <td>6082.000000</td>\n",
              "      <td>15.000100</td>\n",
              "      <td>500001.000000</td>\n",
              "    </tr>\n",
              "  </tbody>\n",
              "</table>\n",
              "</div>\n",
              "      <button class=\"colab-df-convert\" onclick=\"convertToInteractive('df-4e5f0597-de03-428d-b323-6e09c261fc76')\"\n",
              "              title=\"Convert this dataframe to an interactive table.\"\n",
              "              style=\"display:none;\">\n",
              "        \n",
              "  <svg xmlns=\"http://www.w3.org/2000/svg\" height=\"24px\"viewBox=\"0 0 24 24\"\n",
              "       width=\"24px\">\n",
              "    <path d=\"M0 0h24v24H0V0z\" fill=\"none\"/>\n",
              "    <path d=\"M18.56 5.44l.94 2.06.94-2.06 2.06-.94-2.06-.94-.94-2.06-.94 2.06-2.06.94zm-11 1L8.5 8.5l.94-2.06 2.06-.94-2.06-.94L8.5 2.5l-.94 2.06-2.06.94zm10 10l.94 2.06.94-2.06 2.06-.94-2.06-.94-.94-2.06-.94 2.06-2.06.94z\"/><path d=\"M17.41 7.96l-1.37-1.37c-.4-.4-.92-.59-1.43-.59-.52 0-1.04.2-1.43.59L10.3 9.45l-7.72 7.72c-.78.78-.78 2.05 0 2.83L4 21.41c.39.39.9.59 1.41.59.51 0 1.02-.2 1.41-.59l7.78-7.78 2.81-2.81c.8-.78.8-2.07 0-2.86zM5.41 20L4 18.59l7.72-7.72 1.47 1.35L5.41 20z\"/>\n",
              "  </svg>\n",
              "      </button>\n",
              "      \n",
              "  <style>\n",
              "    .colab-df-container {\n",
              "      display:flex;\n",
              "      flex-wrap:wrap;\n",
              "      gap: 12px;\n",
              "    }\n",
              "\n",
              "    .colab-df-convert {\n",
              "      background-color: #E8F0FE;\n",
              "      border: none;\n",
              "      border-radius: 50%;\n",
              "      cursor: pointer;\n",
              "      display: none;\n",
              "      fill: #1967D2;\n",
              "      height: 32px;\n",
              "      padding: 0 0 0 0;\n",
              "      width: 32px;\n",
              "    }\n",
              "\n",
              "    .colab-df-convert:hover {\n",
              "      background-color: #E2EBFA;\n",
              "      box-shadow: 0px 1px 2px rgba(60, 64, 67, 0.3), 0px 1px 3px 1px rgba(60, 64, 67, 0.15);\n",
              "      fill: #174EA6;\n",
              "    }\n",
              "\n",
              "    [theme=dark] .colab-df-convert {\n",
              "      background-color: #3B4455;\n",
              "      fill: #D2E3FC;\n",
              "    }\n",
              "\n",
              "    [theme=dark] .colab-df-convert:hover {\n",
              "      background-color: #434B5C;\n",
              "      box-shadow: 0px 1px 3px 1px rgba(0, 0, 0, 0.15);\n",
              "      filter: drop-shadow(0px 1px 2px rgba(0, 0, 0, 0.3));\n",
              "      fill: #FFFFFF;\n",
              "    }\n",
              "  </style>\n",
              "\n",
              "      <script>\n",
              "        const buttonEl =\n",
              "          document.querySelector('#df-4e5f0597-de03-428d-b323-6e09c261fc76 button.colab-df-convert');\n",
              "        buttonEl.style.display =\n",
              "          google.colab.kernel.accessAllowed ? 'block' : 'none';\n",
              "\n",
              "        async function convertToInteractive(key) {\n",
              "          const element = document.querySelector('#df-4e5f0597-de03-428d-b323-6e09c261fc76');\n",
              "          const dataTable =\n",
              "            await google.colab.kernel.invokeFunction('convertToInteractive',\n",
              "                                                     [key], {});\n",
              "          if (!dataTable) return;\n",
              "\n",
              "          const docLinkHtml = 'Like what you see? Visit the ' +\n",
              "            '<a target=\"_blank\" href=https://colab.research.google.com/notebooks/data_table.ipynb>data table notebook</a>'\n",
              "            + ' to learn more about interactive tables.';\n",
              "          element.innerHTML = '';\n",
              "          dataTable['output_type'] = 'display_data';\n",
              "          await google.colab.output.renderOutput(dataTable, element);\n",
              "          const docLink = document.createElement('div');\n",
              "          docLink.innerHTML = docLinkHtml;\n",
              "          element.appendChild(docLink);\n",
              "        }\n",
              "      </script>\n",
              "    </div>\n",
              "  </div>\n",
              "  "
            ]
          },
          "metadata": {},
          "execution_count": 29
        }
      ]
    },
    {
      "cell_type": "code",
      "source": [
        "# もし、count数が少なりい列があったら、欠落データがあるので\n",
        "# 以下の命令で、欠落データを削除する\n",
        "#df = df.dropna(subset=['欠落データがある列の名前'])\n",
        "# 今回は欠落データがないので、実行しない"
      ],
      "metadata": {
        "id": "swUcO5KH9R3n"
      },
      "execution_count": null,
      "outputs": []
    },
    {
      "cell_type": "code",
      "source": [
        "# 各 columns のヒストグラムを表示する\n",
        "plt.figure(figsize=(20,5))\n",
        "for i, col in enumerate(df.columns):\n",
        "  plt.subplot(2,5,i+1)\n",
        "  plt.hist(df[col])\n",
        "  plt.title(col)\n",
        "plt.tight_layout()\n",
        "plt.show"
      ],
      "metadata": {
        "colab": {
          "base_uri": "https://localhost:8080/",
          "height": 311
        },
        "id": "mlnwHtlZeLBU",
        "outputId": "e25600a6-bf95-49ee-8395-de136c6454a5"
      },
      "execution_count": null,
      "outputs": [
        {
          "output_type": "execute_result",
          "data": {
            "text/plain": [
              "<function matplotlib.pyplot.show(*args, **kw)>"
            ]
          },
          "metadata": {},
          "execution_count": 31
        },
        {
          "output_type": "display_data",
          "data": {
            "text/plain": [
              "<Figure size 1440x360 with 9 Axes>"
            ],
            "image/png": "[encoded data removed]"
          },
          "metadata": {
            "needs_background": "light"
          }
        }
      ]
    },
    {
      "cell_type": "code",
      "source": [
        "# 相関係数を計算して df_corr に代入し、表示\n",
        "df_corr = df.corr()  \n",
        "display(df_corr)"
      ],
      "metadata": {
        "colab": {
          "base_uri": "https://localhost:8080/",
          "height": 331
        },
        "id": "f0uAen4vVGjo",
        "outputId": "f48ab645-1420-40b8-c168-5685fde0903d"
      },
      "execution_count": null,
      "outputs": [
        {
          "output_type": "display_data",
          "data": {
            "text/plain": [
              "                  long.      lat.       age     rooms   b_rooms  population  \\\n",
              "long.          1.000000 -0.924664 -0.108197 -0.027540  0.011896    0.002476   \n",
              "lat.          -0.924664  1.000000  0.011173  0.106389  0.069324    0.002366   \n",
              "age           -0.108197  0.011173  1.000000 -0.153277 -0.076713    0.013191   \n",
              "rooms         -0.027540  0.106389 -0.153277  1.000000  0.827762   -0.004852   \n",
              "b_rooms        0.011896  0.069324 -0.076713  0.827762  1.000000   -0.005832   \n",
              "population     0.002476  0.002366  0.013191 -0.004852 -0.005832    1.000000   \n",
              "households     0.055310 -0.071035 -0.302916 -0.080598 -0.054092   -0.027309   \n",
              "median_income -0.015176 -0.079809 -0.119034  0.326895 -0.059805    0.018766   \n",
              "house_value   -0.045967 -0.144160  0.105623  0.151948 -0.045163   -0.023737   \n",
              "\n",
              "               households  median_income  house_value  \n",
              "long.            0.055310      -0.015176    -0.045967  \n",
              "lat.            -0.071035      -0.079809    -0.144160  \n",
              "age             -0.302916      -0.119034     0.105623  \n",
              "rooms           -0.080598       0.326895     0.151948  \n",
              "b_rooms         -0.054092      -0.059805    -0.045163  \n",
              "population      -0.027309       0.018766    -0.023737  \n",
              "households       1.000000       0.013033     0.065843  \n",
              "median_income    0.013033       1.000000     0.688075  \n",
              "house_value      0.065843       0.688075     1.000000  "
            ],
            "text/html": [
              "\n",
              "  <div id=\"df-f99baef3-0588-4f67-890c-70f4b454edef\">\n",
              "    <div class=\"colab-df-container\">\n",
              "      <div>\n",
              "<style scoped>\n",
              "    .dataframe tbody tr th:only-of-type {\n",
              "        vertical-align: middle;\n",
              "    }\n",
              "\n",
              "    .dataframe tbody tr th {\n",
              "        vertical-align: top;\n",
              "    }\n",
              "\n",
              "    .dataframe thead th {\n",
              "        text-align: right;\n",
              "    }\n",
              "</style>\n",
              "<table border=\"1\" class=\"dataframe\">\n",
              "  <thead>\n",
              "    <tr style=\"text-align: right;\">\n",
              "      <th></th>\n",
              "      <th>long.</th>\n",
              "      <th>lat.</th>\n",
              "      <th>age</th>\n",
              "      <th>rooms</th>\n",
              "      <th>b_rooms</th>\n",
              "      <th>population</th>\n",
              "      <th>households</th>\n",
              "      <th>median_income</th>\n",
              "      <th>house_value</th>\n",
              "    </tr>\n",
              "  </thead>\n",
              "  <tbody>\n",
              "    <tr>\n",
              "      <th>long.</th>\n",
              "      <td>1.000000</td>\n",
              "      <td>-0.924664</td>\n",
              "      <td>-0.108197</td>\n",
              "      <td>-0.027540</td>\n",
              "      <td>0.011896</td>\n",
              "      <td>0.002476</td>\n",
              "      <td>0.055310</td>\n",
              "      <td>-0.015176</td>\n",
              "      <td>-0.045967</td>\n",
              "    </tr>\n",
              "    <tr>\n",
              "      <th>lat.</th>\n",
              "      <td>-0.924664</td>\n",
              "      <td>1.000000</td>\n",
              "      <td>0.011173</td>\n",
              "      <td>0.106389</td>\n",
              "      <td>0.069324</td>\n",
              "      <td>0.002366</td>\n",
              "      <td>-0.071035</td>\n",
              "      <td>-0.079809</td>\n",
              "      <td>-0.144160</td>\n",
              "    </tr>\n",
              "    <tr>\n",
              "      <th>age</th>\n",
              "      <td>-0.108197</td>\n",
              "      <td>0.011173</td>\n",
              "      <td>1.000000</td>\n",
              "      <td>-0.153277</td>\n",
              "      <td>-0.076713</td>\n",
              "      <td>0.013191</td>\n",
              "      <td>-0.302916</td>\n",
              "      <td>-0.119034</td>\n",
              "      <td>0.105623</td>\n",
              "    </tr>\n",
              "    <tr>\n",
              "      <th>rooms</th>\n",
              "      <td>-0.027540</td>\n",
              "      <td>0.106389</td>\n",
              "      <td>-0.153277</td>\n",
              "      <td>1.000000</td>\n",
              "      <td>0.827762</td>\n",
              "      <td>-0.004852</td>\n",
              "      <td>-0.080598</td>\n",
              "      <td>0.326895</td>\n",
              "      <td>0.151948</td>\n",
              "    </tr>\n",
              "    <tr>\n",
              "      <th>b_rooms</th>\n",
              "      <td>0.011896</td>\n",
              "      <td>0.069324</td>\n",
              "      <td>-0.076713</td>\n",
              "      <td>0.827762</td>\n",
              "      <td>1.000000</td>\n",
              "      <td>-0.005832</td>\n",
              "      <td>-0.054092</td>\n",
              "      <td>-0.059805</td>\n",
              "      <td>-0.045163</td>\n",
              "    </tr>\n",
              "    <tr>\n",
              "      <th>population</th>\n",
              "      <td>0.002476</td>\n",
              "      <td>0.002366</td>\n",
              "      <td>0.013191</td>\n",
              "      <td>-0.004852</td>\n",
              "      <td>-0.005832</td>\n",
              "      <td>1.000000</td>\n",
              "      <td>-0.027309</td>\n",
              "      <td>0.018766</td>\n",
              "      <td>-0.023737</td>\n",
              "    </tr>\n",
              "    <tr>\n",
              "      <th>households</th>\n",
              "      <td>0.055310</td>\n",
              "      <td>-0.071035</td>\n",
              "      <td>-0.302916</td>\n",
              "      <td>-0.080598</td>\n",
              "      <td>-0.054092</td>\n",
              "      <td>-0.027309</td>\n",
              "      <td>1.000000</td>\n",
              "      <td>0.013033</td>\n",
              "      <td>0.065843</td>\n",
              "    </tr>\n",
              "    <tr>\n",
              "      <th>median_income</th>\n",
              "      <td>-0.015176</td>\n",
              "      <td>-0.079809</td>\n",
              "      <td>-0.119034</td>\n",
              "      <td>0.326895</td>\n",
              "      <td>-0.059805</td>\n",
              "      <td>0.018766</td>\n",
              "      <td>0.013033</td>\n",
              "      <td>1.000000</td>\n",
              "      <td>0.688075</td>\n",
              "    </tr>\n",
              "    <tr>\n",
              "      <th>house_value</th>\n",
              "      <td>-0.045967</td>\n",
              "      <td>-0.144160</td>\n",
              "      <td>0.105623</td>\n",
              "      <td>0.151948</td>\n",
              "      <td>-0.045163</td>\n",
              "      <td>-0.023737</td>\n",
              "      <td>0.065843</td>\n",
              "      <td>0.688075</td>\n",
              "      <td>1.000000</td>\n",
              "    </tr>\n",
              "  </tbody>\n",
              "</table>\n",
              "</div>\n",
              "      <button class=\"colab-df-convert\" onclick=\"convertToInteractive('df-f99baef3-0588-4f67-890c-70f4b454edef')\"\n",
              "              title=\"Convert this dataframe to an interactive table.\"\n",
              "              style=\"display:none;\">\n",
              "        \n",
              "  <svg xmlns=\"http://www.w3.org/2000/svg\" height=\"24px\"viewBox=\"0 0 24 24\"\n",
              "       width=\"24px\">\n",
              "    <path d=\"M0 0h24v24H0V0z\" fill=\"none\"/>\n",
              "    <path d=\"M18.56 5.44l.94 2.06.94-2.06 2.06-.94-2.06-.94-.94-2.06-.94 2.06-2.06.94zm-11 1L8.5 8.5l.94-2.06 2.06-.94-2.06-.94L8.5 2.5l-.94 2.06-2.06.94zm10 10l.94 2.06.94-2.06 2.06-.94-2.06-.94-.94-2.06-.94 2.06-2.06.94z\"/><path d=\"M17.41 7.96l-1.37-1.37c-.4-.4-.92-.59-1.43-.59-.52 0-1.04.2-1.43.59L10.3 9.45l-7.72 7.72c-.78.78-.78 2.05 0 2.83L4 21.41c.39.39.9.59 1.41.59.51 0 1.02-.2 1.41-.59l7.78-7.78 2.81-2.81c.8-.78.8-2.07 0-2.86zM5.41 20L4 18.59l7.72-7.72 1.47 1.35L5.41 20z\"/>\n",
              "  </svg>\n",
              "      </button>\n",
              "      \n",
              "  <style>\n",
              "    .colab-df-container {\n",
              "      display:flex;\n",
              "      flex-wrap:wrap;\n",
              "      gap: 12px;\n",
              "    }\n",
              "\n",
              "    .colab-df-convert {\n",
              "      background-color: #E8F0FE;\n",
              "      border: none;\n",
              "      border-radius: 50%;\n",
              "      cursor: pointer;\n",
              "      display: none;\n",
              "      fill: #1967D2;\n",
              "      height: 32px;\n",
              "      padding: 0 0 0 0;\n",
              "      width: 32px;\n",
              "    }\n",
              "\n",
              "    .colab-df-convert:hover {\n",
              "      background-color: #E2EBFA;\n",
              "      box-shadow: 0px 1px 2px rgba(60, 64, 67, 0.3), 0px 1px 3px 1px rgba(60, 64, 67, 0.15);\n",
              "      fill: #174EA6;\n",
              "    }\n",
              "\n",
              "    [theme=dark] .colab-df-convert {\n",
              "      background-color: #3B4455;\n",
              "      fill: #D2E3FC;\n",
              "    }\n",
              "\n",
              "    [theme=dark] .colab-df-convert:hover {\n",
              "      background-color: #434B5C;\n",
              "      box-shadow: 0px 1px 3px 1px rgba(0, 0, 0, 0.15);\n",
              "      filter: drop-shadow(0px 1px 2px rgba(0, 0, 0, 0.3));\n",
              "      fill: #FFFFFF;\n",
              "    }\n",
              "  </style>\n",
              "\n",
              "      <script>\n",
              "        const buttonEl =\n",
              "          document.querySelector('#df-f99baef3-0588-4f67-890c-70f4b454edef button.colab-df-convert');\n",
              "        buttonEl.style.display =\n",
              "          google.colab.kernel.accessAllowed ? 'block' : 'none';\n",
              "\n",
              "        async function convertToInteractive(key) {\n",
              "          const element = document.querySelector('#df-f99baef3-0588-4f67-890c-70f4b454edef');\n",
              "          const dataTable =\n",
              "            await google.colab.kernel.invokeFunction('convertToInteractive',\n",
              "                                                     [key], {});\n",
              "          if (!dataTable) return;\n",
              "\n",
              "          const docLinkHtml = 'Like what you see? Visit the ' +\n",
              "            '<a target=\"_blank\" href=https://colab.research.google.com/notebooks/data_table.ipynb>data table notebook</a>'\n",
              "            + ' to learn more about interactive tables.';\n",
              "          element.innerHTML = '';\n",
              "          dataTable['output_type'] = 'display_data';\n",
              "          await google.colab.output.renderOutput(dataTable, element);\n",
              "          const docLink = document.createElement('div');\n",
              "          docLink.innerHTML = docLinkHtml;\n",
              "          element.appendChild(docLink);\n",
              "        }\n",
              "      </script>\n",
              "    </div>\n",
              "  </div>\n",
              "  "
            ]
          },
          "metadata": {}
        }
      ]
    },
    {
      "cell_type": "code",
      "source": [
        "plt.figure(figsize=(15,10))\n",
        "sns.heatmap(df_corr,annot=True)\n",
        "plt.title(\"Corr Heatmap\")\n",
        "plt.show()"
      ],
      "metadata": {
        "colab": {
          "base_uri": "https://localhost:8080/",
          "height": 608
        },
        "id": "mU8hmnV0Wv3l",
        "outputId": "74633d92-f0cc-4df5-b69a-5f95abfad225"
      },
      "execution_count": null,
      "outputs": [
        {
          "output_type": "display_data",
          "data": {
            "text/plain": [
              "<Figure size 1080x720 with 2 Axes>"
            ],
            "image/png": "[encoded data removed]"
          },
          "metadata": {
            "needs_background": "light"
          }
        }
      ]
    },
    {
      "cell_type": "code",
      "source": [
        "# 目的変数（賃料＋管理費）を y に代入し、\n",
        "# 説明変数（その他の項目＝上記以外）を x に代入する\n",
        "y=df[[\"house_value\"]] # 賃料＋管理費\n",
        "df=df.drop([\"house_value\"], axis=1)\n",
        "x=df\n",
        "print(x.head())"
      ],
      "metadata": {
        "colab": {
          "base_uri": "https://localhost:8080/"
        },
        "id": "qeb1fhhFXEou",
        "outputId": "500407b3-9eed-467e-c556-65bdd3cecec6"
      },
      "execution_count": null,
      "outputs": [
        {
          "output_type": "stream",
          "name": "stdout",
          "text": [
            "    long.   lat.  age     rooms   b_rooms  population  households  \\\n",
            "0 -122.23  37.88   41  6.984127  1.023810    2.555556         126   \n",
            "1 -122.22  37.86   21  6.238137  0.971880    2.109842        1138   \n",
            "2 -122.24  37.85   52  8.288136  1.073446    2.802260         177   \n",
            "3 -122.25  37.85   52  5.817352  1.073059    2.547945         219   \n",
            "4 -122.25  37.85   52  6.281853  1.081081    2.181467         259   \n",
            "\n",
            "   median_income  \n",
            "0         8.3252  \n",
            "1         8.3014  \n",
            "2         7.2574  \n",
            "3         5.6431  \n",
            "4         3.8462  \n"
          ]
        }
      ]
    },
    {
      "cell_type": "code",
      "source": [
        "print(y.head())"
      ],
      "metadata": {
        "colab": {
          "base_uri": "https://localhost:8080/"
        },
        "id": "UV1UrTODFomV",
        "outputId": "b8f70261-c272-4341-9b0b-36c8000bfe46"
      },
      "execution_count": null,
      "outputs": [
        {
          "output_type": "stream",
          "name": "stdout",
          "text": [
            "   house_value\n",
            "0       452600\n",
            "1       358500\n",
            "2       352100\n",
            "3       341300\n",
            "4       342200\n"
          ]
        }
      ]
    },
    {
      "cell_type": "code",
      "source": [
        "# 訓練データとテストデータに分割する\n",
        "x_train, x_test, y_train, y_test = train_test_split(x,y,test_size=0.3, random_state=0)\n",
        "print(len(x_train))\n",
        "print(len(x_test))"
      ],
      "metadata": {
        "colab": {
          "base_uri": "https://localhost:8080/"
        },
        "id": "5DTWyQTfXvJi",
        "outputId": "e5d44ac3-d1f7-48f0-eea3-6692e98e1b75"
      },
      "execution_count": null,
      "outputs": [
        {
          "output_type": "stream",
          "name": "stdout",
          "text": [
            "14448\n",
            "6192\n"
          ]
        }
      ]
    },
    {
      "cell_type": "code",
      "source": [
        "# 訓練データとテストデータの最初の5行分を表示する\n",
        "print(x_train.head())\n",
        "print(x_test.head())"
      ],
      "metadata": {
        "colab": {
          "base_uri": "https://localhost:8080/"
        },
        "id": "T33OVnAFuGVl",
        "outputId": "dd182bcc-b974-4aad-945a-f761b127ad0c"
      },
      "execution_count": null,
      "outputs": [
        {
          "output_type": "stream",
          "name": "stdout",
          "text": [
            "       long.   lat.  age     rooms   b_rooms  population  households  \\\n",
            "1989 -119.79  36.73   52  2.800000  0.700000    4.825000          40   \n",
            "256  -122.21  37.77   43  3.671480  1.184116    3.018051         277   \n",
            "7887 -118.04  33.87   17  6.478022  1.087912    3.810440         364   \n",
            "4581 -118.28  34.06   17  2.518000  1.196000    3.051000        1000   \n",
            "1993 -119.81  36.73   50  4.622754  1.161677    3.628743         167   \n",
            "\n",
            "      median_income  \n",
            "1989         1.9750  \n",
            "256          2.2604  \n",
            "7887         6.2990  \n",
            "4581         1.7199  \n",
            "1993         2.2206  \n",
            "        long.   lat.  age     rooms   b_rooms  population  households  \\\n",
            "14740 -117.05  32.58   22  5.663073  1.075472    4.180593         371   \n",
            "10101 -117.97  33.92   32  6.107226  0.927739    3.020979         429   \n",
            "20566 -121.84  38.65   29  5.930712  1.026217    2.910112         534   \n",
            "2670  -115.60  33.20   37  4.992958  1.316901    2.746479         142   \n",
            "15709 -122.43  37.79   25  4.319261  1.039578    1.712401         379   \n",
            "\n",
            "       median_income  \n",
            "14740         4.1518  \n",
            "10101         5.7796  \n",
            "20566         4.3487  \n",
            "2670          2.4511  \n",
            "15709         5.0049  \n"
          ]
        }
      ]
    },
    {
      "cell_type": "code",
      "source": [
        "# 標準化処理する\n",
        "sca = StandardScaler()\n",
        "x_train_sca = sca.fit_transform(x_train)\n",
        "x_test_sca = sca.fit_transform(x_test)\n",
        "print(x_train_sca[:3])\n",
        "print(x_test_sca[:3])"
      ],
      "metadata": {
        "colab": {
          "base_uri": "https://localhost:8080/"
        },
        "id": "jOVQ63Wxse6x",
        "outputId": "fae120d4-6b71-4576-9428-1242a25915f6"
      },
      "execution_count": null,
      "outputs": [
        {
          "output_type": "stream",
          "name": "stdout",
          "text": [
            "[[-0.11131397  0.51396387  1.8562098  -1.146823   -0.82787035  0.25982829\n",
            "  -1.1994956  -1.00030408]\n",
            " [-1.3173838   0.99993462  1.14171192 -0.76585476  0.21347417 -0.00327132\n",
            "  -0.58083415 -0.84938602]\n",
            " [ 0.76084397 -0.82245571 -0.92239307  0.46102722  0.00653819  0.11210392\n",
            "  -0.35373059  1.28620508]]\n",
            "[[ 1.26571866 -1.43730657 -0.53250822  0.07721063 -0.02508949  0.06581932\n",
            "  -0.33797944  0.14156681]\n",
            " [ 0.80488164 -0.80707125  0.26370807  0.23237326 -0.30255282 -0.00759713\n",
            "  -0.18556059  0.98944483]\n",
            " [-1.13363929  1.41756538  0.02484318  0.17070885 -0.11759645 -0.01461622\n",
            "   0.0903701   0.24412682]]\n"
          ]
        }
      ]
    },
    {
      "cell_type": "code",
      "source": [
        "# 訓練データを使って多重回帰の学習をする\n",
        "mreg = LinearRegression().fit(x_train_sca, y_train)"
      ],
      "metadata": {
        "id": "rSsx_3yz0max"
      },
      "execution_count": null,
      "outputs": []
    },
    {
      "cell_type": "code",
      "source": [
        "# 多重回帰の学習結果を使って予測値を算出して、予測値変数に代入\n",
        "y_train_yosoku = mreg.predict(x_train_sca)\n",
        "y_test_yosoku = mreg.predict(x_test_sca)"
      ],
      "metadata": {
        "id": "yLagkq9115YO"
      },
      "execution_count": null,
      "outputs": []
    },
    {
      "cell_type": "code",
      "source": [
        "# 予測値と真値を比較する（訓練データ、テストデータ）\n",
        "cmp_plt(y_train_yosoku,y_train,y_test_yosoku,y_test)\n",
        "# 外れ量（予測値－真値）をプロット\n",
        "res_plt(y_train_yosoku,y_train,y_test_yosoku,y_test)"
      ],
      "metadata": {
        "colab": {
          "base_uri": "https://localhost:8080/",
          "height": 573
        },
        "id": "7BItDUKSXqmj",
        "outputId": "4950470a-1d93-4961-ff1a-697d81ecded3"
      },
      "execution_count": null,
      "outputs": [
        {
          "output_type": "display_data",
          "data": {
            "text/plain": [
              "<Figure size 432x288 with 1 Axes>"
            ],
            "image/png": "[encoded data removed]"
          },
          "metadata": {
            "needs_background": "light"
          }
        },
        {
          "output_type": "display_data",
          "data": {
            "text/plain": [
              "<Figure size 432x288 with 1 Axes>"
            ],
            "image/png": "[encoded data removed]"
          },
          "metadata": {
            "needs_background": "light"
          }
        }
      ]
    },
    {
      "cell_type": "code",
      "source": [
        "# 重回帰予測の評価指標を表示する\n",
        "print(\"Train data\")\n",
        "get_eval_score(y_train,y_train_yosoku)\n",
        "print(\"Test data\")\n",
        "get_eval_score(y_test,y_test_yosoku)"
      ],
      "metadata": {
        "colab": {
          "base_uri": "https://localhost:8080/"
        },
        "id": "KAZEdXWi5KrZ",
        "outputId": "8abe9af6-e159-4b2b-ab1d-c80aa7b7bc49"
      },
      "execution_count": null,
      "outputs": [
        {
          "output_type": "stream",
          "name": "stdout",
          "text": [
            "Train data\n",
            " mean absolute error = 52985.54886815963\n",
            " mean squared error = 5144423660.674707\n",
            " root mean squared error = 71724.63775213303\n",
            " R2(kettei keisuu) = 0.6134416479305652\n",
            "Test data\n",
            " mean absolute error = 53334.564341712525\n",
            " mean squared error = 5344656426.307715\n",
            " root mean squared error = 73107.15714831014\n",
            " R2(kettei keisuu) = 0.5991217433873666\n"
          ]
        }
      ]
    },
    {
      "cell_type": "code",
      "source": [
        "for i, (col, omomi) in enumerate(zip(df.columns, mreg.coef_[0])):\n",
        "  print(f\"w{i}({col}) = {omomi}\")\n",
        "print(f\"b = {mreg.intercept_[0]}\")\n"
      ],
      "metadata": {
        "colab": {
          "base_uri": "https://localhost:8080/"
        },
        "id": "zvd5tqww6nxO",
        "outputId": "a7a6b78d-900b-4b71-99af-3c9bff021bae"
      },
      "execution_count": null,
      "outputs": [
        {
          "output_type": "stream",
          "name": "stdout",
          "text": [
            "w0(long.) = -84597.22590792924\n",
            "w1(lat.) = -87219.18371044412\n",
            "w2(age) = 15064.587454683193\n",
            "w3(rooms) = -17571.032114627844\n",
            "w4(b_rooms) = 21259.603861525513\n",
            "w5(population) = -2703.914162096371\n",
            "w6(households) = 8503.648486747654\n",
            "w7(median_income) = 80900.02973624025\n",
            "b = 206824.62451550458\n"
          ]
        }
      ]
    },
    {
      "cell_type": "code",
      "source": [
        "# Lasso回帰を使って学習する\n",
        "ls = Lasso().fit(x_train_sca, y_train)\n",
        "y_train_yosoku = ls.predict(x_train_sca)\n",
        "y_test_yosoku = ls.predict(x_test_sca)\n",
        "print(y_train_yosoku[:5])\n",
        "print(y_test_yosoku[:5])"
      ],
      "metadata": {
        "colab": {
          "base_uri": "https://localhost:8080/"
        },
        "id": "hjM5jVx99XoT",
        "outputId": "49afd068-a017-4969-8994-eef451e38d3f"
      },
      "execution_count": null,
      "outputs": [
        {
          "output_type": "stream",
          "name": "stdout",
          "text": [
            "[110107.27618371 192597.73780507 293078.04947881 149328.81324823\n",
            " 129463.80631241]\n",
            "[223596.8640556  281074.00090405 194525.28219921  91936.56261028\n",
            " 284810.72178775]\n"
          ]
        }
      ]
    },
    {
      "cell_type": "code",
      "source": [
        "# numpy の expand_dims で次元変換（1行5列ｰ>5行1列）\n",
        "y_train_yosoku = np.expand_dims(y_train_yosoku,1)\n",
        "y_test_yosoku = np.expand_dims(y_test_yosoku,1)\n",
        "print(y_train_yosoku[:5])\n",
        "print(y_test_yosoku[:5])"
      ],
      "metadata": {
        "colab": {
          "base_uri": "https://localhost:8080/"
        },
        "id": "uPr8k2IF-BLg",
        "outputId": "7e750bd8-c703-4f4d-accf-ab1197780515"
      },
      "execution_count": null,
      "outputs": [
        {
          "output_type": "stream",
          "name": "stdout",
          "text": [
            "[[110107.27618371]\n",
            " [192597.73780507]\n",
            " [293078.04947881]\n",
            " [149328.81324823]\n",
            " [129463.80631241]]\n",
            "[[223596.8640556 ]\n",
            " [281074.00090405]\n",
            " [194525.28219921]\n",
            " [ 91936.56261028]\n",
            " [284810.72178775]]\n"
          ]
        }
      ]
    },
    {
      "cell_type": "code",
      "source": [
        "# 予測値と真値を比較する（訓練データ、テストデータ）\n",
        "cmp_plt(y_train_yosoku,y_train,y_test_yosoku,y_test)\n",
        "# 外れ量（予測値－真値）をプロット\n",
        "res_plt(y_train_yosoku,y_train,y_test_yosoku,y_test)"
      ],
      "metadata": {
        "colab": {
          "base_uri": "https://localhost:8080/",
          "height": 573
        },
        "id": "nyZqfysEgZjm",
        "outputId": "72aad3ff-7988-4530-a1dd-63a69ad071d2"
      },
      "execution_count": null,
      "outputs": [
        {
          "output_type": "display_data",
          "data": {
            "text/plain": [
              "<Figure size 432x288 with 1 Axes>"
            ],
            "image/png": "[encoded data removed]"
          },
          "metadata": {
            "needs_background": "light"
          }
        },
        {
          "output_type": "display_data",
          "data": {
            "text/plain": [
              "<Figure size 432x288 with 1 Axes>"
            ],
            "image/png": "[encoded data removed]"
          },
          "metadata": {
            "needs_background": "light"
          }
        }
      ]
    },
    {
      "cell_type": "code",
      "source": [
        "# Lasso回帰予測の評価指標を表示する\n",
        "print(\"Train data\")\n",
        "get_eval_score(y_train,y_train_yosoku)\n",
        "print(\"Test data\")\n",
        "get_eval_score(y_test,y_test_yosoku)"
      ],
      "metadata": {
        "colab": {
          "base_uri": "https://localhost:8080/"
        },
        "id": "1PU1TNpb-i37",
        "outputId": "90a45f96-a761-4bd9-c451-4b244735a5d4"
      },
      "execution_count": null,
      "outputs": [
        {
          "output_type": "stream",
          "name": "stdout",
          "text": [
            "Train data\n",
            " mean absolute error = 52985.49988222103\n",
            " mean squared error = 5144423706.478926\n",
            " root mean squared error = 71724.63807143907\n",
            " R2(kettei keisuu) = 0.6134416444887796\n",
            "Test data\n",
            " mean absolute error = 53334.628271335685\n",
            " mean squared error = 5344676851.52341\n",
            " root mean squared error = 73107.29684185711\n",
            " R2(kettei keisuu) = 0.5991202113852685\n"
          ]
        }
      ]
    },
    {
      "cell_type": "code",
      "source": [
        "for i, (col, omomi) in enumerate(zip(df.columns, ls.coef_)):\n",
        "  print(f\"w{i}({col}) = {omomi}\")\n",
        "print(f\"b = {ls.intercept_[0]}\")"
      ],
      "metadata": {
        "colab": {
          "base_uri": "https://localhost:8080/"
        },
        "id": "iZ_kK5v9-sbN",
        "outputId": "b88bda85-6f86-443b-85cc-0a4181528039"
      },
      "execution_count": null,
      "outputs": [
        {
          "output_type": "stream",
          "name": "stdout",
          "text": [
            "w0(long.) = -84585.39479123728\n",
            "w1(lat.) = -87207.87851047628\n",
            "w2(age) = 15064.890721323276\n",
            "w3(rooms) = -17562.24770067119\n",
            "w4(b_rooms) = 21250.41415172169\n",
            "w5(population) = -2703.104906582623\n",
            "w6(households) = 8503.214648898851\n",
            "w7(median_income) = 80896.47432666687\n",
            "b = 206824.62451550458\n"
          ]
        }
      ]
    },
    {
      "cell_type": "code",
      "source": [
        "# Lasso回帰のパラメータを10に指定する\n",
        "# パラメータ alpha を指定しない場合、alpha=1 で学習している\n",
        "\n",
        "ls_p10 = Lasso(alpha=10).fit(x_train_sca, y_train)\n",
        "\n",
        "for i, (col, omomi) in enumerate(zip(df.columns, ls_p10.coef_)):\n",
        "  print(f\"w{i}({col}) = {omomi}\")\n",
        "print(f\"b = {ls_p10.intercept_[0]}\")"
      ],
      "metadata": {
        "colab": {
          "base_uri": "https://localhost:8080/"
        },
        "id": "3qogX7t4_My1",
        "outputId": "5ccd181d-ed1d-4c7b-9a47-281aa4faac47"
      },
      "execution_count": null,
      "outputs": [
        {
          "output_type": "stream",
          "name": "stdout",
          "text": [
            "w0(long.) = -84478.88012441713\n",
            "w1(lat.) = -87106.09777066478\n",
            "w2(age) = 15067.623078293002\n",
            "w3(rooms) = -17483.203592738762\n",
            "w4(b_rooms) = 21167.717488227634\n",
            "w5(population) = -2695.821864536802\n",
            "w6(households) = 8499.3106379471\n",
            "w7(median_income) = 80864.48544804295\n",
            "b = 206824.62451550458\n"
          ]
        }
      ]
    },
    {
      "cell_type": "code",
      "source": [
        "# Lasso回帰のパラメータを0.5に指定する\n",
        "ls_p1 = Lasso(alpha=0.5).fit(x_train_sca, y_train)\n",
        "\n",
        "for i, (col, omomi) in enumerate(zip(df.columns, ls_p1.coef_)):\n",
        "  print(f\"w{i}({col}) = {omomi}\")\n",
        "print(f\"b = {ls_p1.intercept_[0]}\")"
      ],
      "metadata": {
        "colab": {
          "base_uri": "https://localhost:8080/"
        },
        "id": "j6WlNzO5_k1h",
        "outputId": "f6370ee3-217c-4feb-8af3-8c73c5e4ffeb"
      },
      "execution_count": null,
      "outputs": [
        {
          "output_type": "stream",
          "name": "stdout",
          "text": [
            "w0(long.) = -84591.31172893559\n",
            "w1(lat.) = -87213.53246332446\n",
            "w2(age) = 15064.738970608456\n",
            "w3(rooms) = -17566.63928049915\n",
            "w4(b_rooms) = 21255.008575333042\n",
            "w5(population) = -2703.5095240987603\n",
            "w6(households) = 8503.431547040895\n",
            "w7(median_income) = 80898.25163870172\n",
            "b = 206824.62451550458\n"
          ]
        }
      ]
    },
    {
      "cell_type": "code",
      "source": [
        "# Lasso回帰でパラメータを複数設定して、よいものを選択する\n",
        "ls_cv = LassoCV(alphas=[0.1, 0.5, 1, 5, 10]).fit(x_train_sca, y_train)\n",
        "\n",
        "print(f\"alpha = {ls_cv.alpha_}\")\n",
        "for i, (col, omomi) in enumerate(zip(df.columns, ls_cv.coef_)):\n",
        "  print(f\"w{i}({col}) = {omomi}\")\n",
        "print(f\"b = {ls_cv.intercept_}\")"
      ],
      "metadata": {
        "colab": {
          "base_uri": "https://localhost:8080/"
        },
        "id": "TpPt63mgAhlK",
        "outputId": "ae5b0ff1-5823-40ae-cb90-25ce1ebbb592"
      },
      "execution_count": null,
      "outputs": [
        {
          "output_type": "stream",
          "name": "stdout",
          "text": [
            "alpha = 10.0\n",
            "w0(long.) = -84478.88012441713\n",
            "w1(lat.) = -87106.09777066478\n",
            "w2(age) = 15067.623078293002\n",
            "w3(rooms) = -17483.203592738762\n",
            "w4(b_rooms) = 21167.717488227634\n",
            "w5(population) = -2695.821864536802\n",
            "w6(households) = 8499.3106379471\n",
            "w7(median_income) = 80864.48544804295\n",
            "b = 206824.62451550458\n"
          ]
        },
        {
          "output_type": "stream",
          "name": "stderr",
          "text": [
            "/usr/local/lib/python3.8/dist-packages/sklearn/linear_model/_coordinate_descent.py:1571: DataConversionWarning: A column-vector y was passed when a 1d array was expected. Please change the shape of y to (n_samples, ), for example using ravel().\n",
            "  y = column_or_1d(y, warn=True)\n"
          ]
        }
      ]
    },
    {
      "cell_type": "code",
      "source": [
        "# Lasso回帰でよかったパラメータでの予測の評価指標を表示する\n",
        "y_train_yosoku = ls_cv.predict(x_train_sca)\n",
        "y_test_yosoku = ls_cv.predict(x_test_sca)\n",
        "y_train_yosoku = np.expand_dims(y_train_yosoku,1)\n",
        "y_test_yosoku = np.expand_dims(y_test_yosoku,1)\n",
        "print(\"Train data\")\n",
        "get_eval_score(y_train,y_train_yosoku)\n",
        "print(\"Test data\")\n",
        "get_eval_score(y_test,y_test_yosoku)"
      ],
      "metadata": {
        "colab": {
          "base_uri": "https://localhost:8080/"
        },
        "id": "YzkjNidOB4uv",
        "outputId": "d2620523-6c44-4bd0-9bd0-a2da0393de5c"
      },
      "execution_count": null,
      "outputs": [
        {
          "output_type": "stream",
          "name": "stdout",
          "text": [
            "Train data\n",
            " mean absolute error = 52985.099871973805\n",
            " mean squared error = 5144428241.6891\n",
            " root mean squared error = 71724.66968685949\n",
            " R2(kettei keisuu) = 0.6134413037074818\n",
            "Test data\n",
            " mean absolute error = 53335.23094050122\n",
            " mean squared error = 5344864279.083343\n",
            " root mean squared error = 73108.57869691725\n",
            " R2(kettei keisuu) = 0.5991061533004313\n"
          ]
        }
      ]
    },
    {
      "cell_type": "code",
      "source": [
        "# Ridge回帰を使って学習する\n",
        "rdg =Ridge().fit(x_train_sca, y_train)\n",
        "\n",
        "y_train_yosoku = rdg.predict(x_train_sca)\n",
        "y_test_yosoku = rdg.predict(x_test_sca)\n",
        "cmp_plt(y_train_yosoku,y_train,y_test_yosoku,y_test)\n",
        "res_plt(y_train_yosoku,y_train,y_test_yosoku,y_test)"
      ],
      "metadata": {
        "colab": {
          "base_uri": "https://localhost:8080/",
          "height": 573
        },
        "id": "YymsH6B6Fwjd",
        "outputId": "46b80055-54be-468b-ce47-2187f2b07898"
      },
      "execution_count": null,
      "outputs": [
        {
          "output_type": "display_data",
          "data": {
            "text/plain": [
              "<Figure size 432x288 with 1 Axes>"
            ],
            "image/png": "[encoded data removed]"
          },
          "metadata": {
            "needs_background": "light"
          }
        },
        {
          "output_type": "display_data",
          "data": {
            "text/plain": [
              "<Figure size 432x288 with 1 Axes>"
            ],
            "image/png": "[encoded data removed]"
          },
          "metadata": {
            "needs_background": "light"
          }
        }
      ]
    },
    {
      "cell_type": "code",
      "source": [
        "# Ridge回帰の評価指標値を表示\n",
        "# テストデータの R2 が最も高かった\n",
        "print(\"Train data\")\n",
        "get_eval_score(y_train,y_train_yosoku)\n",
        "print(\"Test data\")\n",
        "get_eval_score(y_test,y_test_yosoku)"
      ],
      "metadata": {
        "colab": {
          "base_uri": "https://localhost:8080/"
        },
        "id": "5YQNiZlXGymj",
        "outputId": "10b54871-7c54-482f-f9a5-008d6c9a5943"
      },
      "execution_count": null,
      "outputs": [
        {
          "output_type": "stream",
          "name": "stdout",
          "text": [
            "Train data\n",
            " mean absolute error = 52984.88251754902\n",
            " mean squared error = 5144424733.223079\n",
            " root mean squared error = 71724.64522898024\n",
            " R2(kettei keisuu) = 0.613441567337955\n",
            "Test data\n",
            " mean absolute error = 53334.367813027144\n",
            " mean squared error = 5344742324.422596\n",
            " root mean squared error = 73107.74462683551\n",
            " R2(kettei keisuu) = 0.599115300562273\n"
          ]
        }
      ]
    },
    {
      "cell_type": "code",
      "source": [
        "for i, (col, omomi) in enumerate(zip(df.columns, rdg.coef_[0])):\n",
        "  print(f\"w{i}({col}) = {omomi}\")\n",
        "print(f\"b = {rdg.intercept_[0]}\")"
      ],
      "metadata": {
        "colab": {
          "base_uri": "https://localhost:8080/"
        },
        "id": "oIWTbtClHArl",
        "outputId": "806b2b2c-1264-4491-8b8a-e43ae89b0bbe"
      },
      "execution_count": null,
      "outputs": [
        {
          "output_type": "stream",
          "name": "stdout",
          "text": [
            "w0(long.) = -84506.32634607574\n",
            "w1(lat.) = -87128.38651692511\n",
            "w2(age) = 15073.34075228939\n",
            "w3(rooms) = -17568.19880668323\n",
            "w4(b_rooms) = 21249.529578783153\n",
            "w5(population) = -2704.614463016959\n",
            "w6(households) = 8506.887639115836\n",
            "w7(median_income) = 80902.48802201457\n",
            "b = 206824.62451550458\n"
          ]
        }
      ]
    }
  ]
}