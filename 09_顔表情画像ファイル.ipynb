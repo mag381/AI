{
  "nbformat": 4,
  "nbformat_minor": 0,
  "metadata": {
    "colab": {
      "provenance": [],
      "include_colab_link": true
    },
    "kernelspec": {
      "name": "python3",
      "display_name": "Python 3"
    },
    "language_info": {
      "name": "python"
    }
  },
  "cells": [
    {
      "cell_type": "markdown",
      "metadata": {
        "id": "view-in-github",
        "colab_type": "text"
      },
      "source": [
        "<a href=\"https://colab.research.google.com/github/mag381/AI/blob/main/09_%E9%A1%94%E8%A1%A8%E6%83%85%E7%94%BB%E5%83%8F%E3%83%95%E3%82%A1%E3%82%A4%E3%83%AB.ipynb\" target=\"_parent\"><img src=\"https://colab.research.google.com/assets/colab-badge.svg\" alt=\"Open In Colab\"/></a>"
      ]
    },
    {
      "cell_type": "code",
      "source": [
        "import cv2\n",
        "import sys, os, glob\n",
        "import numpy as np\n",
        "from matplotlib import pyplot as plt\n",
        "from PIL import Image\n",
        "from PIL import ImageFile"
      ],
      "metadata": {
        "id": "wMY-uKyZOdw5"
      },
      "execution_count": null,
      "outputs": []
    },
    {
      "cell_type": "code",
      "source": [
        "# Bing で画像収集するプログラムをインストール\n",
        "!pip install icrawler\n",
        "from icrawler.builtin import BingImageCrawler"
      ],
      "metadata": {
        "id": "KZ0gyS-KNNhh"
      },
      "execution_count": null,
      "outputs": []
    },
    {
      "cell_type": "code",
      "source": [
        "import shutil\n",
        "import sys\n",
        "import os\n",
        "\n",
        "def create_zip(zip_filename, src_dir):\n",
        "    \"\"\"\n",
        "    src_dir ディレクトリ内のファイル群を、\n",
        "    zip_filename で指定した名前の ZIP ファイルにアーカイブします。\n",
        "    すでに同名の ZIP ファイルが存在する場合は、確認プロンプトを表示します。\n",
        "    \"\"\"\n",
        "    if os.path.exists(zip_filename):\n",
        "        answer = input(zip_filename + ' already exists. Overwrite? (y/n): ')\n",
        "        if (answer != 'y' and answer != 'Y'):\n",
        "            return\n",
        "    try:\n",
        "        name = os.path.splitext(zip_filename)[0]\n",
        "        shutil.make_archive(name, format='zip', root_dir=src_dir)\n",
        "    except Exception as e:\n",
        "        print(e, file=sys.stderr)"
      ],
      "metadata": {
        "id": "GkVbEuWCWwlh"
      },
      "execution_count": null,
      "outputs": []
    },
    {
      "cell_type": "code",
      "source": [
        "def hyouji(files,num_data):\n",
        "  plt.figure(figsize=(10,8))\n",
        "  for i, file in enumerate(files):   # files から file を順番に取り出す\n",
        "    image = Image.open(file)         # 画像ファイルを開く\n",
        "    image = image.convert(\"RGB\")     # カラーの種類をRGB形式に変換\n",
        "\n",
        "    if i<num_data:\n",
        "       ax = plt.subplot(num_data // 3, 4, i+1)\n",
        "       # 画像を行、列に配置する　3なら1行に3画像を配置する\n",
        "       plt.tight_layout()            # 画像同士が重ならないようにする\n",
        "       file_name=os.path.split(file)[1]\n",
        "       # ファイル名を図のタイトルとして設定する\n",
        "       ax.set_title(file_name)\n",
        "    plt.axis('off')\n",
        "    plt.imshow(image)                   # 画像を表示"
      ],
      "metadata": {
        "id": "uT_KkhthSkWs"
      },
      "execution_count": null,
      "outputs": []
    },
    {
      "cell_type": "code",
      "source": [
        "#  画像収集\n",
        "\n",
        "# 画像を保存するフォルダーを指定する\n",
        "foldername =\"happy\"\n",
        "# 収集する画像の枚数を指定する\n",
        "maisu=20\n",
        "crawler = BingImageCrawler(storage={\"root_dir\": foldername })\n",
        "crawler.crawl(keyword=\"笑顔 高校生　一人\", max_num=maisu)\n",
        "# ダウンロード不可のサイトの場合 ERROR が表示される"
      ],
      "metadata": {
        "id": "kljZCcAjG84m"
      },
      "execution_count": null,
      "outputs": []
    },
    {
      "cell_type": "code",
      "source": [
        "num_data =20\n",
        "\n",
        "# 条件を満たすファイル名の一覧を glob で取得し、\n",
        "# 変数 files に格納する\n",
        "files = glob.glob(\"./\"+foldername+\"/*.jpg\")\n",
        "# files に格納された画像データをnum_data の数だけ表示\n",
        "#\n",
        "hyouji(files,num_data)"
      ],
      "metadata": {
        "id": "0vFjnoatL3pl"
      },
      "execution_count": null,
      "outputs": []
    },
    {
      "cell_type": "code",
      "source": [
        "# 取得した複数のファイルを一つの zip ファイルにまとめます\n",
        "create_zip('/content/download.zip','/content/'+foldername)"
      ],
      "metadata": {
        "id": "Ym1_TUsRXN26"
      },
      "execution_count": null,
      "outputs": []
    },
    {
      "cell_type": "code",
      "source": [
        "# zipファイルをパソコンの　ダウンロードフォルダに格納します\n",
        "from google.colab import files\n",
        "files.download(\"/content/download.zip\")"
      ],
      "metadata": {
        "colab": {
          "base_uri": "https://localhost:8080/",
          "height": 17
        },
        "id": "uLOo9cTFXdOl",
        "outputId": "761ad1d7-2d20-4598-8b70-20693f32d0bd"
      },
      "execution_count": null,
      "outputs": [
        {
          "output_type": "display_data",
          "data": {
            "text/plain": [
              "<IPython.core.display.Javascript object>"
            ],
            "application/javascript": [
              "\n",
              "    async function download(id, filename, size) {\n",
              "      if (!google.colab.kernel.accessAllowed) {\n",
              "        return;\n",
              "      }\n",
              "      const div = document.createElement('div');\n",
              "      const label = document.createElement('label');\n",
              "      label.textContent = `Downloading \"${filename}\": `;\n",
              "      div.appendChild(label);\n",
              "      const progress = document.createElement('progress');\n",
              "      progress.max = size;\n",
              "      div.appendChild(progress);\n",
              "      document.body.appendChild(div);\n",
              "\n",
              "      const buffers = [];\n",
              "      let downloaded = 0;\n",
              "\n",
              "      const channel = await google.colab.kernel.comms.open(id);\n",
              "      // Send a message to notify the kernel that we're ready.\n",
              "      channel.send({})\n",
              "\n",
              "      for await (const message of channel.messages) {\n",
              "        // Send a message to notify the kernel that we're ready.\n",
              "        channel.send({})\n",
              "        if (message.buffers) {\n",
              "          for (const buffer of message.buffers) {\n",
              "            buffers.push(buffer);\n",
              "            downloaded += buffer.byteLength;\n",
              "            progress.value = downloaded;\n",
              "          }\n",
              "        }\n",
              "      }\n",
              "      const blob = new Blob(buffers, {type: 'application/binary'});\n",
              "      const a = document.createElement('a');\n",
              "      a.href = window.URL.createObjectURL(blob);\n",
              "      a.download = filename;\n",
              "      div.appendChild(a);\n",
              "      a.click();\n",
              "      div.remove();\n",
              "    }\n",
              "  "
            ]
          },
          "metadata": {}
        },
        {
          "output_type": "display_data",
          "data": {
            "text/plain": [
              "<IPython.core.display.Javascript object>"
            ],
            "application/javascript": [
              "download(\"download_b7aa4497-b15b-4def-8309-f067dece8d59\", \"download.zip\", 7262195)"
            ]
          },
          "metadata": {}
        }
      ]
    }
  ]
}