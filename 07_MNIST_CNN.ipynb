{
  "nbformat": 4,
  "nbformat_minor": 0,
  "metadata": {
    "colab": {
      "provenance": [],
      "authorship_tag": "ABX9TyNfuBTtCyYbNDrXCa59qOWP",
      "include_colab_link": true
    },
    "kernelspec": {
      "name": "python3",
      "display_name": "Python 3"
    },
    "language_info": {
      "name": "python"
    },
    "accelerator": "GPU",
    "gpuClass": "standard"
  },
  "cells": [
    {
      "cell_type": "markdown",
      "metadata": {
        "id": "view-in-github",
        "colab_type": "text"
      },
      "source": [
        "<a href=\"https://colab.research.google.com/github/mag381/AI/blob/main/07_MNIST_CNN.ipynb\" target=\"_parent\"><img src=\"https://colab.research.google.com/assets/colab-badge.svg\" alt=\"Open In Colab\"/></a>"
      ]
    },
    {
      "cell_type": "code",
      "execution_count": null,
      "metadata": {
        "id": "LphmX_Z9EfU7"
      },
      "outputs": [],
      "source": [
        "# ライブラリのインポートなど\n",
        "import keras\n",
        "from keras.datasets import mnist\n",
        "from keras.utils import np_utils\n",
        "from keras.models import Sequential\n",
        "from keras.layers import Conv2D, MaxPooling2D\n",
        "from keras.layers import Dense, Dropout, Flatten\n",
        "from tensorflow.keras.optimizers import Adam\n",
        "import time"
      ]
    },
    {
      "cell_type": "code",
      "source": [
        "import matplotlib.pyplot as plt"
      ],
      "metadata": {
        "id": "8MteWri88H3l"
      },
      "execution_count": null,
      "outputs": []
    },
    {
      "cell_type": "code",
      "source": [
        "# MNIST画像データの読み込みと、訓練・テストデータとして格納\n",
        "(x_train, y_train), (x_test, y_test) = mnist.load_data()"
      ],
      "metadata": {
        "id": "YEv9_CRiEg27"
      },
      "execution_count": null,
      "outputs": []
    },
    {
      "cell_type": "code",
      "source": [
        "x_train.shape"
      ],
      "metadata": {
        "colab": {
          "base_uri": "https://localhost:8080/"
        },
        "id": "XDiaMn-x_X2s",
        "outputId": "d1863dbb-05ad-465c-b500-0dd30f77cf3b"
      },
      "execution_count": null,
      "outputs": [
        {
          "output_type": "execute_result",
          "data": {
            "text/plain": [
              "(60000, 28, 28)"
            ]
          },
          "metadata": {},
          "execution_count": 17
        }
      ]
    },
    {
      "cell_type": "code",
      "source": [
        "# データ形式を変更（reshape）\n",
        "# x_train.shape[0] は x_train の数 (画像が100枚なら 100)\n",
        "# reshape は入力値にデータ数を必要とするため\n",
        "x_train = x_train.reshape(x_train.shape[0], 28, 28, 1)"
      ],
      "metadata": {
        "id": "X7pR2i_-_RPl"
      },
      "execution_count": null,
      "outputs": []
    },
    {
      "cell_type": "code",
      "source": [
        "x_train.shape"
      ],
      "metadata": {
        "colab": {
          "base_uri": "https://localhost:8080/"
        },
        "id": "lkTWCETG_rvn",
        "outputId": "3f110425-bd38-4d3d-9775-f939d463c108"
      },
      "execution_count": null,
      "outputs": [
        {
          "output_type": "execute_result",
          "data": {
            "text/plain": [
              "(60000, 28, 28, 1)"
            ]
          },
          "metadata": {},
          "execution_count": 19
        }
      ]
    },
    {
      "cell_type": "code",
      "source": [
        "x_test = x_test.reshape(x_test.shape[0], 28, 28, 1)"
      ],
      "metadata": {
        "id": "uKnjGMVB_y6I"
      },
      "execution_count": null,
      "outputs": []
    },
    {
      "cell_type": "code",
      "source": [
        "\n",
        "# 画素の濃淡データを正規化（255で割るだけ）\n",
        "# 濃淡データは0-255の整数だが、浮動小数点にするため 'float32' を使った\n",
        "x_train = x_train.astype('float32')/255\n",
        "x_test = x_test.astype('float32')/255"
      ],
      "metadata": {
        "id": "9FJ0rkiz_omc"
      },
      "execution_count": null,
      "outputs": []
    },
    {
      "cell_type": "code",
      "source": [
        "y_train.shape"
      ],
      "metadata": {
        "colab": {
          "base_uri": "https://localhost:8080/"
        },
        "id": "EwKCWjJuAc-n",
        "outputId": "693b0369-e139-4d32-d3e8-cf6158a52a5e"
      },
      "execution_count": null,
      "outputs": [
        {
          "output_type": "execute_result",
          "data": {
            "text/plain": [
              "(60000,)"
            ]
          },
          "metadata": {},
          "execution_count": 22
        }
      ]
    },
    {
      "cell_type": "code",
      "source": [
        "# 正解データは0-9の整数値が入っているので、これをOne-hotベクトル（要素10個）に変える\n",
        "y_train = np_utils.to_categorical(y_train, 10)\n",
        "y_test = np_utils.to_categorical(y_test, 10)"
      ],
      "metadata": {
        "id": "EOZdyi7JEkuB"
      },
      "execution_count": null,
      "outputs": []
    },
    {
      "cell_type": "code",
      "source": [
        "y_train.shape"
      ],
      "metadata": {
        "colab": {
          "base_uri": "https://localhost:8080/"
        },
        "id": "UUx5-oqhALru",
        "outputId": "7dd0b778-50cf-4e59-dd7b-b65038fc86fd"
      },
      "execution_count": null,
      "outputs": [
        {
          "output_type": "execute_result",
          "data": {
            "text/plain": [
              "(60000, 10)"
            ]
          },
          "metadata": {},
          "execution_count": 24
        }
      ]
    },
    {
      "cell_type": "code",
      "source": [
        "# モデルの構造を定義する \n",
        "# 数珠つなぎの構造にするので、最初に Sequential() を使う\n",
        "model = Sequential()\n",
        "# Conv2D は二次元の畳み込み操作、3x3のフィルターを16種類使う、\n",
        "# padding して画像サイズを保つ、画像のピクセル数を指定、\n",
        "# 活性化関数はRELUを使う\n",
        "model.add(Conv2D(16, (3, 3), padding='same',\n",
        "          input_shape=(28, 28, 1), activation='relu'))\n",
        "# マックスプーリングを使う\n",
        "model.add(MaxPooling2D(pool_size=(2, 2)))               \n",
        "model.add(Conv2D(128, (3, 3), activation='relu'))\n",
        "model.add(Conv2D(256, (3, 3), activation='relu'))\n",
        "model.add(MaxPooling2D(pool_size=(2, 2)))\n",
        "# 過学習防止のためにドロップアウトを使う\n",
        "# 毎回 50% を無視して学習する                \n",
        "model.add(Dropout(0.5))\n",
        "# Flatten を使い、二次元情報を一次元にする                                   \n",
        "model.add(Flatten())\n",
        "# Dense で全結合計算、活性化関数はRELUを使う\n",
        "model.add(Dense(128, activation='relu'))\n",
        "# 毎回 25% を無視して学習する                \n",
        "model.add(Dropout(0.25))                                 \n",
        "# Dense（全結合）のソフトマックス関数で、0-9の確率を係船する\n",
        "model.add(Dense(10, activation='softmax'))"
      ],
      "metadata": {
        "id": "fyJx92xkEpug"
      },
      "execution_count": null,
      "outputs": []
    },
    {
      "cell_type": "code",
      "source": [
        "# 損失はクロスエントロピー、学習率はADAM、評価関数はACCURCYで\n",
        "# 実行可能な形式にするために compile する\n",
        "model.compile(loss='categorical_crossentropy',\n",
        "              optimizer=Adam(),\n",
        "              metrics=['accuracy'])"
      ],
      "metadata": {
        "id": "JekEg-A_Ex8L"
      },
      "execution_count": null,
      "outputs": []
    },
    {
      "cell_type": "code",
      "source": [
        "# 学習開始時間を記録しておく\n",
        "start_time = time.time()\n",
        "\n",
        "# fit で学習を開始（バッチサイズ1024、エポック数20、プログレスバーで表示、\n",
        "# 検証はテストデータを使う。学習結果は 変数 history に保存される\n",
        "history = model.ﬁt(x_train, y_train, batch_size=1024, epochs=20,\n",
        "                    verbose=1, validation_data=(x_test, y_test))"
      ],
      "metadata": {
        "colab": {
          "base_uri": "https://localhost:8080/"
        },
        "id": "LLM1mF6XE4v6",
        "outputId": "17f6acbe-f6be-4b5b-e8e4-4a479bd7771d"
      },
      "execution_count": null,
      "outputs": [
        {
          "output_type": "stream",
          "name": "stdout",
          "text": [
            "Epoch 1/20\n",
            "59/59 [==============================] - 15s 77ms/step - loss: 0.4641 - accuracy: 0.8595 - val_loss: 0.0806 - val_accuracy: 0.9739\n",
            "Epoch 2/20\n",
            "59/59 [==============================] - 4s 62ms/step - loss: 0.0966 - accuracy: 0.9707 - val_loss: 0.0461 - val_accuracy: 0.9847\n",
            "Epoch 3/20\n",
            "59/59 [==============================] - 3s 59ms/step - loss: 0.0674 - accuracy: 0.9790 - val_loss: 0.0330 - val_accuracy: 0.9891\n",
            "Epoch 4/20\n",
            "59/59 [==============================] - 4s 61ms/step - loss: 0.0544 - accuracy: 0.9833 - val_loss: 0.0303 - val_accuracy: 0.9901\n",
            "Epoch 5/20\n",
            "59/59 [==============================] - 3s 59ms/step - loss: 0.0437 - accuracy: 0.9869 - val_loss: 0.0278 - val_accuracy: 0.9906\n",
            "Epoch 6/20\n",
            "59/59 [==============================] - 4s 69ms/step - loss: 0.0365 - accuracy: 0.9890 - val_loss: 0.0239 - val_accuracy: 0.9917\n",
            "Epoch 7/20\n",
            "59/59 [==============================] - 4s 60ms/step - loss: 0.0336 - accuracy: 0.9900 - val_loss: 0.0219 - val_accuracy: 0.9927\n",
            "Epoch 8/20\n",
            "59/59 [==============================] - 3s 59ms/step - loss: 0.0284 - accuracy: 0.9912 - val_loss: 0.0213 - val_accuracy: 0.9928\n",
            "Epoch 9/20\n",
            "59/59 [==============================] - 4s 63ms/step - loss: 0.0269 - accuracy: 0.9916 - val_loss: 0.0239 - val_accuracy: 0.9920\n",
            "Epoch 10/20\n",
            "59/59 [==============================] - 4s 60ms/step - loss: 0.0233 - accuracy: 0.9927 - val_loss: 0.0218 - val_accuracy: 0.9923\n",
            "Epoch 11/20\n",
            "59/59 [==============================] - 3s 59ms/step - loss: 0.0219 - accuracy: 0.9930 - val_loss: 0.0218 - val_accuracy: 0.9919\n",
            "Epoch 12/20\n",
            "59/59 [==============================] - 4s 63ms/step - loss: 0.0209 - accuracy: 0.9929 - val_loss: 0.0200 - val_accuracy: 0.9926\n",
            "Epoch 13/20\n",
            "59/59 [==============================] - 4s 62ms/step - loss: 0.0183 - accuracy: 0.9944 - val_loss: 0.0192 - val_accuracy: 0.9937\n",
            "Epoch 14/20\n",
            "59/59 [==============================] - 4s 66ms/step - loss: 0.0173 - accuracy: 0.9945 - val_loss: 0.0181 - val_accuracy: 0.9938\n",
            "Epoch 15/20\n",
            "59/59 [==============================] - 4s 60ms/step - loss: 0.0160 - accuracy: 0.9945 - val_loss: 0.0222 - val_accuracy: 0.9923\n",
            "Epoch 16/20\n",
            "59/59 [==============================] - 4s 63ms/step - loss: 0.0159 - accuracy: 0.9951 - val_loss: 0.0191 - val_accuracy: 0.9932\n",
            "Epoch 17/20\n",
            "59/59 [==============================] - 3s 59ms/step - loss: 0.0140 - accuracy: 0.9954 - val_loss: 0.0202 - val_accuracy: 0.9938\n",
            "Epoch 18/20\n",
            "59/59 [==============================] - 3s 59ms/step - loss: 0.0125 - accuracy: 0.9962 - val_loss: 0.0189 - val_accuracy: 0.9938\n",
            "Epoch 19/20\n",
            "59/59 [==============================] - 4s 62ms/step - loss: 0.0116 - accuracy: 0.9962 - val_loss: 0.0187 - val_accuracy: 0.9940\n",
            "Epoch 20/20\n",
            "59/59 [==============================] - 4s 60ms/step - loss: 0.0106 - accuracy: 0.9965 - val_loss: 0.0180 - val_accuracy: 0.9944\n"
          ]
        }
      ]
    },
    {
      "cell_type": "code",
      "source": [
        "loss     = history.history['loss']\n",
        "val_loss = history.history['val_loss']\n",
        "\n",
        "nb_epoch = len(loss)\n",
        "nb_epoch"
      ],
      "metadata": {
        "colab": {
          "base_uri": "https://localhost:8080/"
        },
        "id": "j8rcPUIrgocv",
        "outputId": "bdfa1a03-9a35-4ea6-8e09-9573b5d27340"
      },
      "execution_count": null,
      "outputs": [
        {
          "output_type": "execute_result",
          "data": {
            "text/plain": [
              "20"
            ]
          },
          "metadata": {},
          "execution_count": 24
        }
      ]
    },
    {
      "cell_type": "code",
      "source": [
        "plt.plot(range(nb_epoch), loss, 'bo', label='loss')\n",
        "plt.plot(range(nb_epoch), val_loss, 'b', label='val_loss')\n",
        "plt.legend(loc='best', fontsize=10)\n",
        "plt.grid()\n",
        "plt.xlabel('epoch')\n",
        "plt.ylabel('loss')\n",
        "plt.show()"
      ],
      "metadata": {
        "colab": {
          "base_uri": "https://localhost:8080/",
          "height": 279
        },
        "id": "c-7gEClhW5tU",
        "outputId": "c9547a7a-80e0-47e8-a2f8-e94d6ba3c036"
      },
      "execution_count": null,
      "outputs": [
        {
          "output_type": "display_data",
          "data": {
            "text/plain": [
              "<Figure size 432x288 with 1 Axes>"
            ],
            "image/png": "[encoded data removed]"
          },
          "metadata": {
            "needs_background": "light"
          }
        }
      ]
    },
    {
      "cell_type": "code",
      "source": [
        "accuracy     = history.history['accuracy']\n",
        "val_accuracy = history.history['val_accuracy']\n",
        "\n",
        "plt.plot(range(nb_epoch), accuracy, 'bo', label='accuracy')\n",
        "plt.plot(range(nb_epoch), val_accuracy, 'b', label='val_accuracy')\n",
        "plt.legend(loc='best', fontsize=10)\n",
        "plt.grid()\n",
        "plt.xlabel('epoch')\n",
        "plt.ylabel('loss')\n",
        "plt.show()"
      ],
      "metadata": {
        "colab": {
          "base_uri": "https://localhost:8080/",
          "height": 279
        },
        "id": "okXkICYT-szr",
        "outputId": "e5a37d13-8e1d-41cc-8ecb-8562fb742235"
      },
      "execution_count": null,
      "outputs": [
        {
          "output_type": "display_data",
          "data": {
            "text/plain": [
              "<Figure size 432x288 with 1 Axes>"
            ],
            "image/png": "[encoded data removed]"
          },
          "metadata": {
            "needs_background": "light"
          }
        }
      ]
    },
    {
      "cell_type": "code",
      "source": [
        "# 訓練データの損失や精度を変数 score に格納し、表示する\n",
        "score = model.evaluate(x_train, y_train, verbose=0)\n",
        "print('Test loss:', score[0])\n",
        "print('Test accuracy:', score[1])\n",
        "# 計算時間を小数点以下3桁までで表示する\n",
        "print('Computation time:{0:.3f} sec'.format(time.time() - start_time))"
      ],
      "metadata": {
        "colab": {
          "base_uri": "https://localhost:8080/"
        },
        "id": "XiS0NKhoF6Ha",
        "outputId": "1652ea69-0210-4304-cef1-3b71df454035"
      },
      "execution_count": null,
      "outputs": [
        {
          "output_type": "stream",
          "name": "stdout",
          "text": [
            "Test loss: 0.05248311534523964\n",
            "Test accuracy: 0.9835166931152344\n",
            "Computation time:896.294 sec\n"
          ]
        }
      ]
    },
    {
      "cell_type": "code",
      "source": [
        "# テストデータの損失や精度を変数 score に格納し、表示する\n",
        "score = model.evaluate(x_test, y_test, verbose=0)\n",
        "print('Test loss:', score[0])\n",
        "print('Test accuracy:', score[1])\n",
        "print('Computation time:{0:.3f} sec'.format(time.time() - start_time))"
      ],
      "metadata": {
        "colab": {
          "base_uri": "https://localhost:8080/"
        },
        "id": "Bhw3d8FEE6n-",
        "outputId": "2c96da99-4f96-4f5e-d15f-6f6e471d058f"
      },
      "execution_count": null,
      "outputs": [
        {
          "output_type": "stream",
          "name": "stdout",
          "text": [
            "Test loss: 0.04577219858765602\n",
            "Test accuracy: 0.9854000210762024\n",
            "Computation time:900.072 sec\n"
          ]
        }
      ]
    }
  ]
}