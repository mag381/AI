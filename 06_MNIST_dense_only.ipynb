{
  "nbformat": 4,
  "nbformat_minor": 0,
  "metadata": {
    "colab": {
      "provenance": [],
      "authorship_tag": "ABX9TyOrcPfR5tm8Jig3DLOtY99K",
      "include_colab_link": true
    },
    "kernelspec": {
      "name": "python3",
      "display_name": "Python 3"
    },
    "language_info": {
      "name": "python"
    }
  },
  "cells": [
    {
      "cell_type": "markdown",
      "metadata": {
        "id": "view-in-github",
        "colab_type": "text"
      },
      "source": [
        "<a href=\"https://colab.research.google.com/github/mag381/AI/blob/main/06_MNIST_dense_only.ipynb\" target=\"_parent\"><img src=\"https://colab.research.google.com/assets/colab-badge.svg\" alt=\"Open In Colab\"/></a>"
      ]
    },
    {
      "cell_type": "markdown",
      "source": [
        "全結合層を使った練習　MNISTのデータセットを使用"
      ],
      "metadata": {
        "id": "74-Fuesc5YMS"
      }
    },
    {
      "cell_type": "code",
      "execution_count": null,
      "metadata": {
        "colab": {
          "base_uri": "https://localhost:8080/"
        },
        "id": "Hpwt_kmd4Ost",
        "outputId": "e00f208b-1efb-4ea6-d55d-8af992dd1de9"
      },
      "outputs": [
        {
          "output_type": "stream",
          "name": "stdout",
          "text": [
            "Downloading data from https://storage.googleapis.com/tensorflow/tf-keras-datasets/mnist.npz\n",
            "11490434/11490434 [==============================] - 0s 0us/step\n"
          ]
        }
      ],
      "source": [
        "#mnistのデータセットをインポート\n",
        "from keras.datasets import mnist\n",
        "\n",
        "# MNIST 手書き数字の画像データをロードして、学習データとテストデータに格納\n",
        "# train は訓練データ、test はテストデータ\n",
        "# x は説明変数（画素データ）、yは目的変数（数字のラベル）\n",
        "(x_train, y_train), (x_test, y_test) = mnist.load_data()"
      ]
    },
    {
      "cell_type": "code",
      "source": [
        "from tensorflow.keras.callbacks import EarlyStopping, ModelCheckpoint\n",
        "from tensorflow.keras.models import Model\n",
        "from tensorflow.keras.layers import Dense, Input, Flatten"
      ],
      "metadata": {
        "id": "9hrjU1bv4SHA"
      },
      "execution_count": null,
      "outputs": []
    },
    {
      "cell_type": "code",
      "source": [
        "# NN(ニューラルネットワーク)の構造を定義\n",
        "input_data = Input(shape=(28, 28)) # 入力データの形は 28×28 pixels\n",
        "x_in = Flatten()(input_data) # 入力データを1次元に直す 28x28 -> 784\n",
        "# 中間層を作成 x_inを入力値として、dense(全結合) + ReLU\n",
        "z = Dense(units=128, activation='relu')(x_in)\n",
        "# 出力層を作成　z(中間層)を入力値として、\n",
        "# dense(全結合) + softmax関数で0-9の確率を出力 \n",
        "p = Dense(units=10, activation='softmax')(z)\n",
        "# 次行で構造定義が完了\n",
        "model = Model(inputs=input_data,outputs=p,) # build DNN model\n",
        "# NN を実行可能な形式にするためにコンパイルする\n",
        "# 学習率の設定は ADAM、損失はクロスエントロピー、評価関数はAccuracyを使う\n",
        "model.compile(optimizer='adam', loss='sparse_categorical_crossentropy', metrics=['acc']) # compile model"
      ],
      "metadata": {
        "id": "PqvkWmCF4YEM"
      },
      "execution_count": null,
      "outputs": []
    },
    {
      "cell_type": "code",
      "source": [
        "# fit で学習開始、説明変数は x_train、目的変数（正解）は y_train を使う\n",
        "# バッチサイズは128、エポック数は10に設定\n",
        "result = model.fit(x=x_train, y=y_train, batch_size=128, epochs=10, validation_split=0.2)"
      ],
      "metadata": {
        "colab": {
          "base_uri": "https://localhost:8080/"
        },
        "id": "K-oBycPQ4dNU",
        "outputId": "f9d415c7-3c3e-420b-e8b4-5c077f742494"
      },
      "execution_count": null,
      "outputs": [
        {
          "output_type": "stream",
          "name": "stdout",
          "text": [
            "Epoch 1/10\n",
            "375/375 [==============================] - 4s 7ms/step - loss: 5.3816 - acc: 0.8625 - val_loss: 1.4458 - val_acc: 0.9113\n",
            "Epoch 2/10\n",
            "375/375 [==============================] - 2s 6ms/step - loss: 0.8676 - acc: 0.9164 - val_loss: 0.7048 - val_acc: 0.9132\n",
            "Epoch 3/10\n",
            "375/375 [==============================] - 2s 5ms/step - loss: 0.4178 - acc: 0.9345 - val_loss: 0.5254 - val_acc: 0.9244\n",
            "Epoch 4/10\n",
            "375/375 [==============================] - 3s 7ms/step - loss: 0.2734 - acc: 0.9448 - val_loss: 0.4634 - val_acc: 0.9387\n",
            "Epoch 5/10\n",
            "375/375 [==============================] - 3s 7ms/step - loss: 0.2021 - acc: 0.9555 - val_loss: 0.4333 - val_acc: 0.9356\n",
            "Epoch 6/10\n",
            "375/375 [==============================] - 2s 5ms/step - loss: 0.1703 - acc: 0.9596 - val_loss: 0.4208 - val_acc: 0.9412\n",
            "Epoch 7/10\n",
            "375/375 [==============================] - 2s 6ms/step - loss: 0.1482 - acc: 0.9637 - val_loss: 0.3843 - val_acc: 0.9451\n",
            "Epoch 8/10\n",
            "375/375 [==============================] - 2s 6ms/step - loss: 0.1422 - acc: 0.9655 - val_loss: 0.4267 - val_acc: 0.9391\n",
            "Epoch 9/10\n",
            "375/375 [==============================] - 2s 5ms/step - loss: 0.1421 - acc: 0.9666 - val_loss: 0.4059 - val_acc: 0.9452\n",
            "Epoch 10/10\n",
            "375/375 [==============================] - 3s 9ms/step - loss: 0.1349 - acc: 0.9672 - val_loss: 0.3688 - val_acc: 0.9490\n"
          ]
        }
      ]
    },
    {
      "cell_type": "code",
      "source": [
        "# 訓練データのの評価スコア（Loss、Accuracy）を算出\n",
        "# verbose: 0 ログ出力なし、1：ログをプログレスバーで出力、2：ログを管理出力\n",
        "score = model.evaluate(x_train, y_train, verbose=1)\n",
        "print('Test loss:', score[0])\n",
        "print('Test accuracy:', score[1])"
      ],
      "metadata": {
        "colab": {
          "base_uri": "https://localhost:8080/"
        },
        "id": "_nN0PHJo4ePP",
        "outputId": "bcf21b15-5c80-42ea-8606-849b610e6133"
      },
      "execution_count": null,
      "outputs": [
        {
          "output_type": "stream",
          "name": "stdout",
          "text": [
            "1875/1875 [==============================] - 4s 2ms/step - loss: 0.1650 - acc: 0.9686\n",
            "Test loss: 0.16503821313381195\n",
            "Test accuracy: 0.9685500264167786\n"
          ]
        }
      ]
    },
    {
      "cell_type": "code",
      "source": [
        "# テストデータの評価スコア（Loss、Accuracy）を算出\n",
        "# 訓練データよりロス（損失）が大きく、Accuracyが低い\n",
        "# エポック数10は最適ではないかも\n",
        "score = model.evaluate(x_test, y_test, verbose=0)\n",
        "print('Test loss:', score[0])\n",
        "print('Test accuracy:', score[1])"
      ],
      "metadata": {
        "colab": {
          "base_uri": "https://localhost:8080/"
        },
        "id": "FH8Bpg6HFXE_",
        "outputId": "4f55c9cc-d825-4c9b-832b-9b8def472dec"
      },
      "execution_count": null,
      "outputs": [
        {
          "output_type": "stream",
          "name": "stdout",
          "text": [
            "Test loss: 0.4155109226703644\n",
            "Test accuracy: 0.9490000009536743\n"
          ]
        }
      ]
    }
  ]
}