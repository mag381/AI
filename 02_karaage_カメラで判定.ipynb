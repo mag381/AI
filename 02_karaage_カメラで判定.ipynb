{
  "nbformat": 4,
  "nbformat_minor": 0,
  "metadata": {
    "colab": {
      "provenance": [],
      "include_colab_link": true
    },
    "kernelspec": {
      "name": "python3",
      "display_name": "Python 3"
    },
    "accelerator": "GPU"
  },
  "cells": [
    {
      "cell_type": "markdown",
      "metadata": {
        "id": "view-in-github",
        "colab_type": "text"
      },
      "source": [
        "<a href=\"https://colab.research.google.com/github/mag381/AI/blob/main/02_karaage_%E3%82%AB%E3%83%A1%E3%83%A9%E3%81%A7%E5%88%A4%E5%AE%9A.ipynb\" target=\"_parent\"><img src=\"https://colab.research.google.com/assets/colab-badge.svg\" alt=\"Open In Colab\"/></a>"
      ]
    },
    {
      "cell_type": "markdown",
      "metadata": {
        "id": "dBJYhtDxkQom"
      },
      "source": [
        "# カメラでの画像分類\n"
      ]
    },
    {
      "cell_type": "markdown",
      "metadata": {
        "id": "fgUg8-4VgjM_"
      },
      "source": [
        "学習させたモデルを使ってカメラ画像に対して画像分類をします。\n",
        "\n",
        "注：このノートブックはハードウェアアクセラレータをGPUよりNone(CPU)で実行した方がレスポンスが良い場合もあります。"
      ]
    },
    {
      "cell_type": "markdown",
      "metadata": {
        "id": "MR8zDuZpcrsa"
      },
      "source": [
        "## 事前準備"
      ]
    },
    {
      "cell_type": "code",
      "metadata": {
        "id": "OtYbzcsPkg6e"
      },
      "source": [
        "%tensorflow_version 2.x\n",
        "import tensorflow as tf\n",
        "print(tf.__version__)"
      ],
      "execution_count": null,
      "outputs": []
    },
    {
      "cell_type": "code",
      "metadata": {
        "id": "NAzaEMEZluLy"
      },
      "source": [
        "from tensorflow.keras.preprocessing.image import img_to_array, load_img\n",
        "import numpy as np\n",
        "import time"
      ],
      "execution_count": null,
      "outputs": []
    },
    {
      "cell_type": "markdown",
      "metadata": {
        "id": "A3UvGkLmkjHN"
      },
      "source": [
        "モデルとラベルをGoogle Driveからコピーします。"
      ]
    },
    {
      "cell_type": "code",
      "metadata": {
        "id": "aNBqDFwukme5"
      },
      "source": [
        "from google.colab import drive\n",
        "drive.mount('/content/drive')"
      ],
      "execution_count": null,
      "outputs": []
    },
    {
      "cell_type": "code",
      "metadata": {
        "id": "sRmnz5FjkvyS"
      },
      "source": [
        "!cp '/content/drive/My Drive/my_model.h5' './my_model.h5'\n",
        "!cp '/content/drive/My Drive/labels.txt' './labels.txt'"
      ],
      "execution_count": null,
      "outputs": []
    },
    {
      "cell_type": "code",
      "metadata": {
        "id": "HAMrF1KhzSwl"
      },
      "source": [
        "!ls -lh"
      ],
      "execution_count": null,
      "outputs": []
    },
    {
      "cell_type": "markdown",
      "metadata": {
        "id": "J8OumIjRdJUj"
      },
      "source": [
        "## AIモデルとラベルの読み込み"
      ]
    },
    {
      "cell_type": "markdown",
      "metadata": {
        "id": "_Czkj9kElCe9"
      },
      "source": [
        "MNISTベースのAIモデルを読み込んで中身を確認します"
      ]
    },
    {
      "cell_type": "code",
      "metadata": {
        "id": "KqTp0rFWzflm"
      },
      "source": [
        "keras_model = tf.keras.models.load_model(\"my_model.h5\")\n",
        "keras_model.summary()"
      ],
      "execution_count": null,
      "outputs": []
    },
    {
      "cell_type": "markdown",
      "metadata": {
        "id": "2I4uwnHmsRl7"
      },
      "source": [
        "ラベルを読み込みます"
      ]
    },
    {
      "cell_type": "code",
      "metadata": {
        "id": "DL3IxYtmsTAe"
      },
      "source": [
        "labels = []\n",
        "with open('./labels.txt','r') as f:\n",
        "  for line in f:\n",
        "    labels.append(line.rstrip())\n",
        "print(labels)\n",
        "\n",
        "NUM_CLASSES = len(labels)"
      ],
      "execution_count": null,
      "outputs": []
    },
    {
      "cell_type": "markdown",
      "metadata": {
        "id": "NQRoDZQslQLf"
      },
      "source": [
        "## 画像分類デモの実行"
      ]
    },
    {
      "cell_type": "markdown",
      "metadata": {
        "id": "PsGeC0PshPcx"
      },
      "source": [
        "Webカメラを使うJavascriptのコードをダウンロードします。"
      ]
    },
    {
      "cell_type": "code",
      "metadata": {
        "id": "-CmL-aZRAz5U"
      },
      "source": [
        "!wget https://raw.githubusercontent.com/karaage0703/karaage-ai-book/master/util/colab_camera.py"
      ],
      "execution_count": null,
      "outputs": []
    },
    {
      "cell_type": "markdown",
      "metadata": {
        "id": "U23HbQgKBYR3"
      },
      "source": [
        "コードを読み込みます。"
      ]
    },
    {
      "cell_type": "code",
      "metadata": {
        "id": "tO53JtEdA4Tt"
      },
      "source": [
        "import colab_camera"
      ],
      "execution_count": null,
      "outputs": []
    },
    {
      "cell_type": "markdown",
      "metadata": {
        "id": "ngH5oj5chaYB"
      },
      "source": [
        "処理を行うコールバック関数を定義します。"
      ]
    },
    {
      "cell_type": "code",
      "metadata": {
        "id": "-6NQFFARhV86"
      },
      "source": [
        "import IPython\n",
        "from google.colab import output\n",
        "import cv2\n",
        "import numpy as np\n",
        "from PIL import Image\n",
        "from io import BytesIO\n",
        "import base64\n",
        "\n",
        "def run(img_str):\n",
        "  #decode to image\n",
        "  decimg = base64.b64decode(img_str.split(',')[1], validate=True)\n",
        "  decimg = Image.open(BytesIO(decimg))\n",
        "  decimg = np.array(decimg, dtype=np.uint8);\n",
        "  decimg = cv2.cvtColor(decimg, cv2.COLOR_BGR2RGB)\n",
        "\n",
        "  # image classify\n",
        "  img = cv2.resize(decimg, (64, 64))\n",
        "  img = img_to_array(img)\n",
        "  img = img / 255.0\n",
        "  img = img[np.newaxis]\n",
        "  img = np.asarray(img)\n",
        "  preds = keras_model.predict(img)\n",
        "  result = np.argmax(preds[0])\n",
        "\n",
        "  # draw output\n",
        "  out_img = decimg\n",
        "  cv2.putText(out_img, labels[result], (10,50), \\\n",
        "      cv2.FONT_HERSHEY_SIMPLEX, 1, (0, 0, 255), 1, cv2.LINE_AA)\n",
        "\n",
        "  #encode to string\n",
        "  _, encimg = cv2.imencode(\".jpg\", out_img,\n",
        "      [int(cv2.IMWRITE_JPEG_QUALITY), 80])\n",
        "  img_str = encimg.tobytes()\n",
        "  img_str = (\"data:image/jpeg;base64,\" +\n",
        "      base64.b64encode(img_str).decode('utf-8'))\n",
        "  return IPython.display.JSON({'img_str': img_str})\n",
        "\n",
        "output.register_callback('notebook.run', run)"
      ],
      "execution_count": null,
      "outputs": []
    },
    {
      "cell_type": "markdown",
      "metadata": {
        "id": "V7m5YnKXst-J"
      },
      "source": [
        "デモを実施します。"
      ]
    },
    {
      "cell_type": "code",
      "metadata": {
        "id": "sB8reukWimWG"
      },
      "source": [
        "colab_camera.use_cam()"
      ],
      "execution_count": null,
      "outputs": []
    },
    {
      "cell_type": "markdown",
      "metadata": {
        "id": "O257maL9kW7k"
      },
      "source": [
        "# 参考リンク\n",
        "\n",
        "- https://qiita.com/a2kiti/items/f32de4f51a31d609e5a5"
      ]
    }
  ]
}